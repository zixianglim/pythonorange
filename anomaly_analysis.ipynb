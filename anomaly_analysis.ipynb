{
  "nbformat": 4,
  "nbformat_minor": 0,
  "metadata": {
    "colab": {
      "provenance": []
    },
    "kernelspec": {
      "name": "python3",
      "display_name": "Python 3"
    },
    "language_info": {
      "name": "python"
    }
  },
  "cells": [
    {
      "cell_type": "markdown",
      "source": [
        "Business Case\n",
        "- Assuming you are working in a bank and a customer (Corporate/Company) is requesting for loan.\n",
        "- You need to predict if the customer will default the loan base on the probability of bankruptcy.\n",
        "- You are to create the predictive model using machine learning model.\n",
        "- Part I\n",
        "- Please use the necessary attributes.\n",
        "- Remember to split train test.\n",
        "- Split before normalize and oversample the minority.\n",
        "- All machine learning use default setting.\n",
        "- Measurement is accuracy.\n",
        "- Data visualization is needed. At least use one from pandas, seaborn and matplotlib.\n",
        "- Machine learning model should include regression, decision tree and neural network.\n",
        "- You are required to plot ROC, precision_recall_curve\n",
        "- How to improve the results by change the features selected, data wrangling or parameter setting, Including using keras and tensorflow.\n",
        "- Explain the pros and cons about your model, including limitation (can be both quantitative and qualitative).\n",
        "- How to overcome the weakness of your model (future study).\n",
        "- The important of your model to the bank.\n",
        "- Apply orange on all the models."
      ],
      "metadata": {
        "id": "qhwSPQ7krM1E"
      }
    },
    {
      "cell_type": "code",
      "execution_count": 123,
      "metadata": {
        "id": "VIk1oLupqiWs"
      },
      "outputs": [],
      "source": [
        "import pandas as pd\n",
        "import numpy as np\n",
        "import matplotlib.pyplot as plt\n",
        "import seaborn as sns"
      ]
    },
    {
      "cell_type": "code",
      "source": [
        "from google.colab import drive\n",
        "drive.mount('/content/drive')"
      ],
      "metadata": {
        "colab": {
          "base_uri": "https://localhost:8080/"
        },
        "id": "JbZrSO1LwIWe",
        "outputId": "26a7cd19-ec24-4382-8e7a-adbaa0d13e30"
      },
      "execution_count": 124,
      "outputs": [
        {
          "output_type": "stream",
          "name": "stdout",
          "text": [
            "Drive already mounted at /content/drive; to attempt to forcibly remount, call drive.mount(\"/content/drive\", force_remount=True).\n"
          ]
        }
      ]
    },
    {
      "cell_type": "code",
      "source": [
        "df = pd.read_csv(\"/content/drive/MyDrive/Data/bankruptcy.csv\")"
      ],
      "metadata": {
        "id": "eq2KDbTbwK1j"
      },
      "execution_count": 125,
      "outputs": []
    },
    {
      "cell_type": "code",
      "source": [
        "df.head()"
      ],
      "metadata": {
        "colab": {
          "base_uri": "https://localhost:8080/",
          "height": 300
        },
        "id": "7LLdLFdpwYDe",
        "outputId": "bf7c2aea-7cbd-4ee1-9f54-c5d08288adfd"
      },
      "execution_count": 126,
      "outputs": [
        {
          "output_type": "execute_result",
          "data": {
            "text/plain": [
              "      Attr1     Attr2     Attr3     Attr4     Attr5     Attr6     Attr7  \\\n",
              "0 -0.031545 -0.091313 -0.040269 -0.013529  0.007406 -0.016047 -0.000264   \n",
              "1 -0.231729 -0.049448  0.304381 -0.080975  0.007515 -0.016047 -0.034963   \n",
              "2 -0.058602  0.065060 -0.488404 -0.189489  0.006572 -0.016047 -0.004954   \n",
              "3 -0.069376  0.044641 -0.181684 -0.140032  0.007477 -0.010915 -0.005599   \n",
              "4  0.236424 -0.051912  0.678337 -0.014680  0.007879 -0.016047  0.057418   \n",
              "\n",
              "      Attr8     Attr9    Attr10  ...    Attr56    Attr57    Attr58    Attr59  \\\n",
              "0  0.641242 -0.748385  0.126789  ...  0.014367  0.005457 -0.014143 -0.020924   \n",
              "1  0.074710  0.469815  0.073759  ...  0.008492 -0.008385 -0.008666 -0.023095   \n",
              "2 -0.456287  0.270351 -0.071287  ...  0.010819  0.006779 -0.009437 -0.007919   \n",
              "3 -0.462971 -0.286746 -0.085266  ...  0.010683  0.005384 -0.010840  0.001381   \n",
              "4  0.097183  0.423405  0.076880  ...  0.010970  0.025295 -0.011056 -0.022535   \n",
              "\n",
              "     Attr60    Attr61    Attr62    Attr63    Attr64  class  \n",
              "0  0.068399 -0.214478 -0.013915 -0.173939 -0.046788      0  \n",
              "1 -0.033498 -0.205796 -0.015174 -0.073056 -0.027236      0  \n",
              "2 -0.043455  0.019740 -0.011736 -0.291624 -0.033580      0  \n",
              "3 -0.042828 -0.350519  0.002969 -0.554685 -0.046823      0  \n",
              "4 -0.035892 -0.181557 -0.015623 -0.027841 -0.023694      0  \n",
              "\n",
              "[5 rows x 65 columns]"
            ],
            "text/html": [
              "\n",
              "  <div id=\"df-dffadf78-8e0f-409b-90d9-1631b17dd412\">\n",
              "    <div class=\"colab-df-container\">\n",
              "      <div>\n",
              "<style scoped>\n",
              "    .dataframe tbody tr th:only-of-type {\n",
              "        vertical-align: middle;\n",
              "    }\n",
              "\n",
              "    .dataframe tbody tr th {\n",
              "        vertical-align: top;\n",
              "    }\n",
              "\n",
              "    .dataframe thead th {\n",
              "        text-align: right;\n",
              "    }\n",
              "</style>\n",
              "<table border=\"1\" class=\"dataframe\">\n",
              "  <thead>\n",
              "    <tr style=\"text-align: right;\">\n",
              "      <th></th>\n",
              "      <th>Attr1</th>\n",
              "      <th>Attr2</th>\n",
              "      <th>Attr3</th>\n",
              "      <th>Attr4</th>\n",
              "      <th>Attr5</th>\n",
              "      <th>Attr6</th>\n",
              "      <th>Attr7</th>\n",
              "      <th>Attr8</th>\n",
              "      <th>Attr9</th>\n",
              "      <th>Attr10</th>\n",
              "      <th>...</th>\n",
              "      <th>Attr56</th>\n",
              "      <th>Attr57</th>\n",
              "      <th>Attr58</th>\n",
              "      <th>Attr59</th>\n",
              "      <th>Attr60</th>\n",
              "      <th>Attr61</th>\n",
              "      <th>Attr62</th>\n",
              "      <th>Attr63</th>\n",
              "      <th>Attr64</th>\n",
              "      <th>class</th>\n",
              "    </tr>\n",
              "  </thead>\n",
              "  <tbody>\n",
              "    <tr>\n",
              "      <th>0</th>\n",
              "      <td>-0.031545</td>\n",
              "      <td>-0.091313</td>\n",
              "      <td>-0.040269</td>\n",
              "      <td>-0.013529</td>\n",
              "      <td>0.007406</td>\n",
              "      <td>-0.016047</td>\n",
              "      <td>-0.000264</td>\n",
              "      <td>0.641242</td>\n",
              "      <td>-0.748385</td>\n",
              "      <td>0.126789</td>\n",
              "      <td>...</td>\n",
              "      <td>0.014367</td>\n",
              "      <td>0.005457</td>\n",
              "      <td>-0.014143</td>\n",
              "      <td>-0.020924</td>\n",
              "      <td>0.068399</td>\n",
              "      <td>-0.214478</td>\n",
              "      <td>-0.013915</td>\n",
              "      <td>-0.173939</td>\n",
              "      <td>-0.046788</td>\n",
              "      <td>0</td>\n",
              "    </tr>\n",
              "    <tr>\n",
              "      <th>1</th>\n",
              "      <td>-0.231729</td>\n",
              "      <td>-0.049448</td>\n",
              "      <td>0.304381</td>\n",
              "      <td>-0.080975</td>\n",
              "      <td>0.007515</td>\n",
              "      <td>-0.016047</td>\n",
              "      <td>-0.034963</td>\n",
              "      <td>0.074710</td>\n",
              "      <td>0.469815</td>\n",
              "      <td>0.073759</td>\n",
              "      <td>...</td>\n",
              "      <td>0.008492</td>\n",
              "      <td>-0.008385</td>\n",
              "      <td>-0.008666</td>\n",
              "      <td>-0.023095</td>\n",
              "      <td>-0.033498</td>\n",
              "      <td>-0.205796</td>\n",
              "      <td>-0.015174</td>\n",
              "      <td>-0.073056</td>\n",
              "      <td>-0.027236</td>\n",
              "      <td>0</td>\n",
              "    </tr>\n",
              "    <tr>\n",
              "      <th>2</th>\n",
              "      <td>-0.058602</td>\n",
              "      <td>0.065060</td>\n",
              "      <td>-0.488404</td>\n",
              "      <td>-0.189489</td>\n",
              "      <td>0.006572</td>\n",
              "      <td>-0.016047</td>\n",
              "      <td>-0.004954</td>\n",
              "      <td>-0.456287</td>\n",
              "      <td>0.270351</td>\n",
              "      <td>-0.071287</td>\n",
              "      <td>...</td>\n",
              "      <td>0.010819</td>\n",
              "      <td>0.006779</td>\n",
              "      <td>-0.009437</td>\n",
              "      <td>-0.007919</td>\n",
              "      <td>-0.043455</td>\n",
              "      <td>0.019740</td>\n",
              "      <td>-0.011736</td>\n",
              "      <td>-0.291624</td>\n",
              "      <td>-0.033580</td>\n",
              "      <td>0</td>\n",
              "    </tr>\n",
              "    <tr>\n",
              "      <th>3</th>\n",
              "      <td>-0.069376</td>\n",
              "      <td>0.044641</td>\n",
              "      <td>-0.181684</td>\n",
              "      <td>-0.140032</td>\n",
              "      <td>0.007477</td>\n",
              "      <td>-0.010915</td>\n",
              "      <td>-0.005599</td>\n",
              "      <td>-0.462971</td>\n",
              "      <td>-0.286746</td>\n",
              "      <td>-0.085266</td>\n",
              "      <td>...</td>\n",
              "      <td>0.010683</td>\n",
              "      <td>0.005384</td>\n",
              "      <td>-0.010840</td>\n",
              "      <td>0.001381</td>\n",
              "      <td>-0.042828</td>\n",
              "      <td>-0.350519</td>\n",
              "      <td>0.002969</td>\n",
              "      <td>-0.554685</td>\n",
              "      <td>-0.046823</td>\n",
              "      <td>0</td>\n",
              "    </tr>\n",
              "    <tr>\n",
              "      <th>4</th>\n",
              "      <td>0.236424</td>\n",
              "      <td>-0.051912</td>\n",
              "      <td>0.678337</td>\n",
              "      <td>-0.014680</td>\n",
              "      <td>0.007879</td>\n",
              "      <td>-0.016047</td>\n",
              "      <td>0.057418</td>\n",
              "      <td>0.097183</td>\n",
              "      <td>0.423405</td>\n",
              "      <td>0.076880</td>\n",
              "      <td>...</td>\n",
              "      <td>0.010970</td>\n",
              "      <td>0.025295</td>\n",
              "      <td>-0.011056</td>\n",
              "      <td>-0.022535</td>\n",
              "      <td>-0.035892</td>\n",
              "      <td>-0.181557</td>\n",
              "      <td>-0.015623</td>\n",
              "      <td>-0.027841</td>\n",
              "      <td>-0.023694</td>\n",
              "      <td>0</td>\n",
              "    </tr>\n",
              "  </tbody>\n",
              "</table>\n",
              "<p>5 rows × 65 columns</p>\n",
              "</div>\n",
              "      <button class=\"colab-df-convert\" onclick=\"convertToInteractive('df-dffadf78-8e0f-409b-90d9-1631b17dd412')\"\n",
              "              title=\"Convert this dataframe to an interactive table.\"\n",
              "              style=\"display:none;\">\n",
              "        \n",
              "  <svg xmlns=\"http://www.w3.org/2000/svg\" height=\"24px\"viewBox=\"0 0 24 24\"\n",
              "       width=\"24px\">\n",
              "    <path d=\"M0 0h24v24H0V0z\" fill=\"none\"/>\n",
              "    <path d=\"M18.56 5.44l.94 2.06.94-2.06 2.06-.94-2.06-.94-.94-2.06-.94 2.06-2.06.94zm-11 1L8.5 8.5l.94-2.06 2.06-.94-2.06-.94L8.5 2.5l-.94 2.06-2.06.94zm10 10l.94 2.06.94-2.06 2.06-.94-2.06-.94-.94-2.06-.94 2.06-2.06.94z\"/><path d=\"M17.41 7.96l-1.37-1.37c-.4-.4-.92-.59-1.43-.59-.52 0-1.04.2-1.43.59L10.3 9.45l-7.72 7.72c-.78.78-.78 2.05 0 2.83L4 21.41c.39.39.9.59 1.41.59.51 0 1.02-.2 1.41-.59l7.78-7.78 2.81-2.81c.8-.78.8-2.07 0-2.86zM5.41 20L4 18.59l7.72-7.72 1.47 1.35L5.41 20z\"/>\n",
              "  </svg>\n",
              "      </button>\n",
              "      \n",
              "  <style>\n",
              "    .colab-df-container {\n",
              "      display:flex;\n",
              "      flex-wrap:wrap;\n",
              "      gap: 12px;\n",
              "    }\n",
              "\n",
              "    .colab-df-convert {\n",
              "      background-color: #E8F0FE;\n",
              "      border: none;\n",
              "      border-radius: 50%;\n",
              "      cursor: pointer;\n",
              "      display: none;\n",
              "      fill: #1967D2;\n",
              "      height: 32px;\n",
              "      padding: 0 0 0 0;\n",
              "      width: 32px;\n",
              "    }\n",
              "\n",
              "    .colab-df-convert:hover {\n",
              "      background-color: #E2EBFA;\n",
              "      box-shadow: 0px 1px 2px rgba(60, 64, 67, 0.3), 0px 1px 3px 1px rgba(60, 64, 67, 0.15);\n",
              "      fill: #174EA6;\n",
              "    }\n",
              "\n",
              "    [theme=dark] .colab-df-convert {\n",
              "      background-color: #3B4455;\n",
              "      fill: #D2E3FC;\n",
              "    }\n",
              "\n",
              "    [theme=dark] .colab-df-convert:hover {\n",
              "      background-color: #434B5C;\n",
              "      box-shadow: 0px 1px 3px 1px rgba(0, 0, 0, 0.15);\n",
              "      filter: drop-shadow(0px 1px 2px rgba(0, 0, 0, 0.3));\n",
              "      fill: #FFFFFF;\n",
              "    }\n",
              "  </style>\n",
              "\n",
              "      <script>\n",
              "        const buttonEl =\n",
              "          document.querySelector('#df-dffadf78-8e0f-409b-90d9-1631b17dd412 button.colab-df-convert');\n",
              "        buttonEl.style.display =\n",
              "          google.colab.kernel.accessAllowed ? 'block' : 'none';\n",
              "\n",
              "        async function convertToInteractive(key) {\n",
              "          const element = document.querySelector('#df-dffadf78-8e0f-409b-90d9-1631b17dd412');\n",
              "          const dataTable =\n",
              "            await google.colab.kernel.invokeFunction('convertToInteractive',\n",
              "                                                     [key], {});\n",
              "          if (!dataTable) return;\n",
              "\n",
              "          const docLinkHtml = 'Like what you see? Visit the ' +\n",
              "            '<a target=\"_blank\" href=https://colab.research.google.com/notebooks/data_table.ipynb>data table notebook</a>'\n",
              "            + ' to learn more about interactive tables.';\n",
              "          element.innerHTML = '';\n",
              "          dataTable['output_type'] = 'display_data';\n",
              "          await google.colab.output.renderOutput(dataTable, element);\n",
              "          const docLink = document.createElement('div');\n",
              "          docLink.innerHTML = docLinkHtml;\n",
              "          element.appendChild(docLink);\n",
              "        }\n",
              "      </script>\n",
              "    </div>\n",
              "  </div>\n",
              "  "
            ]
          },
          "metadata": {},
          "execution_count": 126
        }
      ]
    },
    {
      "cell_type": "code",
      "source": [
        "x = df.drop(columns=\"class\")\n",
        "y = df[\"class\"]\n",
        "from sklearn.feature_selection import SelectKBest, f_regression\n",
        "f = SelectKBest(score_func = f_regression, k=10).fit(x,y).get_support()\n",
        "x.columns[f]"
      ],
      "metadata": {
        "colab": {
          "base_uri": "https://localhost:8080/"
        },
        "id": "i847JzuRwauV",
        "outputId": "21aaefd7-b242-45a1-d9f8-ca36eb6de311"
      },
      "execution_count": 127,
      "outputs": [
        {
          "output_type": "execute_result",
          "data": {
            "text/plain": [
              "Index(['Attr3', 'Attr8', 'Attr11', 'Attr16', 'Attr17', 'Attr22', 'Attr26',\n",
              "       'Attr35', 'Attr50', 'Attr51'],\n",
              "      dtype='object')"
            ]
          },
          "metadata": {},
          "execution_count": 127
        }
      ]
    },
    {
      "cell_type": "code",
      "source": [
        "df = df.loc[:, [\"class\", 'Attr3', 'Attr8', 'Attr11', 'Attr16', 'Attr17', 'Attr22', 'Attr26',\n",
        "       'Attr35', 'Attr50', 'Attr51']]"
      ],
      "metadata": {
        "id": "fn0bKamkxl0v"
      },
      "execution_count": 128,
      "outputs": []
    },
    {
      "cell_type": "code",
      "source": [
        "df.head()"
      ],
      "metadata": {
        "colab": {
          "base_uri": "https://localhost:8080/",
          "height": 250
        },
        "id": "Z_cyTMYdyCC2",
        "outputId": "e44a6710-4f36-421c-e35d-a69db0b5ae70"
      },
      "execution_count": 129,
      "outputs": [
        {
          "output_type": "execute_result",
          "data": {
            "text/plain": [
              "   class     Attr3     Attr8    Attr11    Attr16    Attr17    Attr22  \\\n",
              "0      0 -0.040269  0.641242 -0.214423 -0.242796  0.579994 -0.403174   \n",
              "1      0  0.304381  0.074710 -0.835505 -0.603332  0.040666 -0.873423   \n",
              "2      0 -0.488404 -0.456287  0.156944 -0.367159 -0.464823  0.152437   \n",
              "3      0 -0.181684 -0.462971 -0.314756 -0.454498 -0.413685 -0.089462   \n",
              "4      0  0.678337  0.097183  0.918860  0.744187  0.062059  0.866831   \n",
              "\n",
              "     Attr26    Attr35    Attr50    Attr51  \n",
              "0 -0.206675 -0.435600 -0.192331 -1.027090  \n",
              "1 -0.591456 -0.986256  0.186782 -0.079059  \n",
              "2 -0.339401  0.766162 -0.468628  0.393587  \n",
              "3 -0.442992 -0.100314 -0.515188 -0.267896  \n",
              "4  0.675202  1.004640  0.342874 -0.210252  "
            ],
            "text/html": [
              "\n",
              "  <div id=\"df-9cb72f74-b600-4a63-a7da-aef58249cd30\">\n",
              "    <div class=\"colab-df-container\">\n",
              "      <div>\n",
              "<style scoped>\n",
              "    .dataframe tbody tr th:only-of-type {\n",
              "        vertical-align: middle;\n",
              "    }\n",
              "\n",
              "    .dataframe tbody tr th {\n",
              "        vertical-align: top;\n",
              "    }\n",
              "\n",
              "    .dataframe thead th {\n",
              "        text-align: right;\n",
              "    }\n",
              "</style>\n",
              "<table border=\"1\" class=\"dataframe\">\n",
              "  <thead>\n",
              "    <tr style=\"text-align: right;\">\n",
              "      <th></th>\n",
              "      <th>class</th>\n",
              "      <th>Attr3</th>\n",
              "      <th>Attr8</th>\n",
              "      <th>Attr11</th>\n",
              "      <th>Attr16</th>\n",
              "      <th>Attr17</th>\n",
              "      <th>Attr22</th>\n",
              "      <th>Attr26</th>\n",
              "      <th>Attr35</th>\n",
              "      <th>Attr50</th>\n",
              "      <th>Attr51</th>\n",
              "    </tr>\n",
              "  </thead>\n",
              "  <tbody>\n",
              "    <tr>\n",
              "      <th>0</th>\n",
              "      <td>0</td>\n",
              "      <td>-0.040269</td>\n",
              "      <td>0.641242</td>\n",
              "      <td>-0.214423</td>\n",
              "      <td>-0.242796</td>\n",
              "      <td>0.579994</td>\n",
              "      <td>-0.403174</td>\n",
              "      <td>-0.206675</td>\n",
              "      <td>-0.435600</td>\n",
              "      <td>-0.192331</td>\n",
              "      <td>-1.027090</td>\n",
              "    </tr>\n",
              "    <tr>\n",
              "      <th>1</th>\n",
              "      <td>0</td>\n",
              "      <td>0.304381</td>\n",
              "      <td>0.074710</td>\n",
              "      <td>-0.835505</td>\n",
              "      <td>-0.603332</td>\n",
              "      <td>0.040666</td>\n",
              "      <td>-0.873423</td>\n",
              "      <td>-0.591456</td>\n",
              "      <td>-0.986256</td>\n",
              "      <td>0.186782</td>\n",
              "      <td>-0.079059</td>\n",
              "    </tr>\n",
              "    <tr>\n",
              "      <th>2</th>\n",
              "      <td>0</td>\n",
              "      <td>-0.488404</td>\n",
              "      <td>-0.456287</td>\n",
              "      <td>0.156944</td>\n",
              "      <td>-0.367159</td>\n",
              "      <td>-0.464823</td>\n",
              "      <td>0.152437</td>\n",
              "      <td>-0.339401</td>\n",
              "      <td>0.766162</td>\n",
              "      <td>-0.468628</td>\n",
              "      <td>0.393587</td>\n",
              "    </tr>\n",
              "    <tr>\n",
              "      <th>3</th>\n",
              "      <td>0</td>\n",
              "      <td>-0.181684</td>\n",
              "      <td>-0.462971</td>\n",
              "      <td>-0.314756</td>\n",
              "      <td>-0.454498</td>\n",
              "      <td>-0.413685</td>\n",
              "      <td>-0.089462</td>\n",
              "      <td>-0.442992</td>\n",
              "      <td>-0.100314</td>\n",
              "      <td>-0.515188</td>\n",
              "      <td>-0.267896</td>\n",
              "    </tr>\n",
              "    <tr>\n",
              "      <th>4</th>\n",
              "      <td>0</td>\n",
              "      <td>0.678337</td>\n",
              "      <td>0.097183</td>\n",
              "      <td>0.918860</td>\n",
              "      <td>0.744187</td>\n",
              "      <td>0.062059</td>\n",
              "      <td>0.866831</td>\n",
              "      <td>0.675202</td>\n",
              "      <td>1.004640</td>\n",
              "      <td>0.342874</td>\n",
              "      <td>-0.210252</td>\n",
              "    </tr>\n",
              "  </tbody>\n",
              "</table>\n",
              "</div>\n",
              "      <button class=\"colab-df-convert\" onclick=\"convertToInteractive('df-9cb72f74-b600-4a63-a7da-aef58249cd30')\"\n",
              "              title=\"Convert this dataframe to an interactive table.\"\n",
              "              style=\"display:none;\">\n",
              "        \n",
              "  <svg xmlns=\"http://www.w3.org/2000/svg\" height=\"24px\"viewBox=\"0 0 24 24\"\n",
              "       width=\"24px\">\n",
              "    <path d=\"M0 0h24v24H0V0z\" fill=\"none\"/>\n",
              "    <path d=\"M18.56 5.44l.94 2.06.94-2.06 2.06-.94-2.06-.94-.94-2.06-.94 2.06-2.06.94zm-11 1L8.5 8.5l.94-2.06 2.06-.94-2.06-.94L8.5 2.5l-.94 2.06-2.06.94zm10 10l.94 2.06.94-2.06 2.06-.94-2.06-.94-.94-2.06-.94 2.06-2.06.94z\"/><path d=\"M17.41 7.96l-1.37-1.37c-.4-.4-.92-.59-1.43-.59-.52 0-1.04.2-1.43.59L10.3 9.45l-7.72 7.72c-.78.78-.78 2.05 0 2.83L4 21.41c.39.39.9.59 1.41.59.51 0 1.02-.2 1.41-.59l7.78-7.78 2.81-2.81c.8-.78.8-2.07 0-2.86zM5.41 20L4 18.59l7.72-7.72 1.47 1.35L5.41 20z\"/>\n",
              "  </svg>\n",
              "      </button>\n",
              "      \n",
              "  <style>\n",
              "    .colab-df-container {\n",
              "      display:flex;\n",
              "      flex-wrap:wrap;\n",
              "      gap: 12px;\n",
              "    }\n",
              "\n",
              "    .colab-df-convert {\n",
              "      background-color: #E8F0FE;\n",
              "      border: none;\n",
              "      border-radius: 50%;\n",
              "      cursor: pointer;\n",
              "      display: none;\n",
              "      fill: #1967D2;\n",
              "      height: 32px;\n",
              "      padding: 0 0 0 0;\n",
              "      width: 32px;\n",
              "    }\n",
              "\n",
              "    .colab-df-convert:hover {\n",
              "      background-color: #E2EBFA;\n",
              "      box-shadow: 0px 1px 2px rgba(60, 64, 67, 0.3), 0px 1px 3px 1px rgba(60, 64, 67, 0.15);\n",
              "      fill: #174EA6;\n",
              "    }\n",
              "\n",
              "    [theme=dark] .colab-df-convert {\n",
              "      background-color: #3B4455;\n",
              "      fill: #D2E3FC;\n",
              "    }\n",
              "\n",
              "    [theme=dark] .colab-df-convert:hover {\n",
              "      background-color: #434B5C;\n",
              "      box-shadow: 0px 1px 3px 1px rgba(0, 0, 0, 0.15);\n",
              "      filter: drop-shadow(0px 1px 2px rgba(0, 0, 0, 0.3));\n",
              "      fill: #FFFFFF;\n",
              "    }\n",
              "  </style>\n",
              "\n",
              "      <script>\n",
              "        const buttonEl =\n",
              "          document.querySelector('#df-9cb72f74-b600-4a63-a7da-aef58249cd30 button.colab-df-convert');\n",
              "        buttonEl.style.display =\n",
              "          google.colab.kernel.accessAllowed ? 'block' : 'none';\n",
              "\n",
              "        async function convertToInteractive(key) {\n",
              "          const element = document.querySelector('#df-9cb72f74-b600-4a63-a7da-aef58249cd30');\n",
              "          const dataTable =\n",
              "            await google.colab.kernel.invokeFunction('convertToInteractive',\n",
              "                                                     [key], {});\n",
              "          if (!dataTable) return;\n",
              "\n",
              "          const docLinkHtml = 'Like what you see? Visit the ' +\n",
              "            '<a target=\"_blank\" href=https://colab.research.google.com/notebooks/data_table.ipynb>data table notebook</a>'\n",
              "            + ' to learn more about interactive tables.';\n",
              "          element.innerHTML = '';\n",
              "          dataTable['output_type'] = 'display_data';\n",
              "          await google.colab.output.renderOutput(dataTable, element);\n",
              "          const docLink = document.createElement('div');\n",
              "          docLink.innerHTML = docLinkHtml;\n",
              "          element.appendChild(docLink);\n",
              "        }\n",
              "      </script>\n",
              "    </div>\n",
              "  </div>\n",
              "  "
            ]
          },
          "metadata": {},
          "execution_count": 129
        }
      ]
    },
    {
      "cell_type": "code",
      "source": [
        "df.isnull().any()"
      ],
      "metadata": {
        "colab": {
          "base_uri": "https://localhost:8080/"
        },
        "id": "Y5gI_4xyyDBS",
        "outputId": "eae81d19-cb62-4771-e4bc-36327901a435"
      },
      "execution_count": 130,
      "outputs": [
        {
          "output_type": "execute_result",
          "data": {
            "text/plain": [
              "class     False\n",
              "Attr3     False\n",
              "Attr8     False\n",
              "Attr11    False\n",
              "Attr16    False\n",
              "Attr17    False\n",
              "Attr22    False\n",
              "Attr26    False\n",
              "Attr35    False\n",
              "Attr50    False\n",
              "Attr51    False\n",
              "dtype: bool"
            ]
          },
          "metadata": {},
          "execution_count": 130
        }
      ]
    },
    {
      "cell_type": "code",
      "source": [
        "df.describe()"
      ],
      "metadata": {
        "colab": {
          "base_uri": "https://localhost:8080/",
          "height": 364
        },
        "id": "DGjMPolayJg9",
        "outputId": "ce006a67-5f84-421c-d586-6a2b3dd65d38"
      },
      "execution_count": 131,
      "outputs": [
        {
          "output_type": "execute_result",
          "data": {
            "text/plain": [
              "              class         Attr3         Attr8        Attr11        Attr16  \\\n",
              "count  10000.000000  10000.000000  10000.000000  10000.000000  10000.000000   \n",
              "mean       0.020300     -0.003544      0.009053     -0.002092      0.004570   \n",
              "std        0.141032      1.015494      1.064426      1.221631      0.993429   \n",
              "min        0.000000    -25.597146     -0.966015    -97.172752     -7.243222   \n",
              "25%        0.000000     -0.516971     -0.445667     -0.305785     -0.425618   \n",
              "50%        0.000000      0.003186     -0.260150     -0.051330     -0.244403   \n",
              "75%        0.000000      0.585722      0.098874      0.316930      0.117491   \n",
              "max        1.000000      3.324327     47.504463     11.367801     30.016115   \n",
              "\n",
              "             Attr17        Attr22        Attr26        Attr35        Attr50  \\\n",
              "count  10000.000000  10000.000000  10000.000000  10000.000000  10000.000000   \n",
              "mean       0.008561     -0.004581      0.004990     -0.004104      0.000980   \n",
              "std        1.057773      1.238670      0.984670      1.164521      0.990897   \n",
              "min       -1.010521   -100.671151     -7.834373    -81.571260     -0.991489   \n",
              "25%       -0.445706     -0.334718     -0.409379     -0.362912     -0.479160   \n",
              "50%       -0.260870     -0.070187     -0.232934     -0.080775     -0.230765   \n",
              "75%        0.095591      0.298283      0.108514      0.337973      0.139985   \n",
              "max       45.284425      9.778090     26.317555     11.908359     24.149898   \n",
              "\n",
              "             Attr51  \n",
              "count  10000.000000  \n",
              "mean      -0.001850  \n",
              "std        1.051308  \n",
              "min       -1.560279  \n",
              "25%       -0.671175  \n",
              "50%       -0.144492  \n",
              "75%        0.492830  \n",
              "max       46.280276  "
            ],
            "text/html": [
              "\n",
              "  <div id=\"df-494a105c-1569-4f14-aaa7-f5da440943b2\">\n",
              "    <div class=\"colab-df-container\">\n",
              "      <div>\n",
              "<style scoped>\n",
              "    .dataframe tbody tr th:only-of-type {\n",
              "        vertical-align: middle;\n",
              "    }\n",
              "\n",
              "    .dataframe tbody tr th {\n",
              "        vertical-align: top;\n",
              "    }\n",
              "\n",
              "    .dataframe thead th {\n",
              "        text-align: right;\n",
              "    }\n",
              "</style>\n",
              "<table border=\"1\" class=\"dataframe\">\n",
              "  <thead>\n",
              "    <tr style=\"text-align: right;\">\n",
              "      <th></th>\n",
              "      <th>class</th>\n",
              "      <th>Attr3</th>\n",
              "      <th>Attr8</th>\n",
              "      <th>Attr11</th>\n",
              "      <th>Attr16</th>\n",
              "      <th>Attr17</th>\n",
              "      <th>Attr22</th>\n",
              "      <th>Attr26</th>\n",
              "      <th>Attr35</th>\n",
              "      <th>Attr50</th>\n",
              "      <th>Attr51</th>\n",
              "    </tr>\n",
              "  </thead>\n",
              "  <tbody>\n",
              "    <tr>\n",
              "      <th>count</th>\n",
              "      <td>10000.000000</td>\n",
              "      <td>10000.000000</td>\n",
              "      <td>10000.000000</td>\n",
              "      <td>10000.000000</td>\n",
              "      <td>10000.000000</td>\n",
              "      <td>10000.000000</td>\n",
              "      <td>10000.000000</td>\n",
              "      <td>10000.000000</td>\n",
              "      <td>10000.000000</td>\n",
              "      <td>10000.000000</td>\n",
              "      <td>10000.000000</td>\n",
              "    </tr>\n",
              "    <tr>\n",
              "      <th>mean</th>\n",
              "      <td>0.020300</td>\n",
              "      <td>-0.003544</td>\n",
              "      <td>0.009053</td>\n",
              "      <td>-0.002092</td>\n",
              "      <td>0.004570</td>\n",
              "      <td>0.008561</td>\n",
              "      <td>-0.004581</td>\n",
              "      <td>0.004990</td>\n",
              "      <td>-0.004104</td>\n",
              "      <td>0.000980</td>\n",
              "      <td>-0.001850</td>\n",
              "    </tr>\n",
              "    <tr>\n",
              "      <th>std</th>\n",
              "      <td>0.141032</td>\n",
              "      <td>1.015494</td>\n",
              "      <td>1.064426</td>\n",
              "      <td>1.221631</td>\n",
              "      <td>0.993429</td>\n",
              "      <td>1.057773</td>\n",
              "      <td>1.238670</td>\n",
              "      <td>0.984670</td>\n",
              "      <td>1.164521</td>\n",
              "      <td>0.990897</td>\n",
              "      <td>1.051308</td>\n",
              "    </tr>\n",
              "    <tr>\n",
              "      <th>min</th>\n",
              "      <td>0.000000</td>\n",
              "      <td>-25.597146</td>\n",
              "      <td>-0.966015</td>\n",
              "      <td>-97.172752</td>\n",
              "      <td>-7.243222</td>\n",
              "      <td>-1.010521</td>\n",
              "      <td>-100.671151</td>\n",
              "      <td>-7.834373</td>\n",
              "      <td>-81.571260</td>\n",
              "      <td>-0.991489</td>\n",
              "      <td>-1.560279</td>\n",
              "    </tr>\n",
              "    <tr>\n",
              "      <th>25%</th>\n",
              "      <td>0.000000</td>\n",
              "      <td>-0.516971</td>\n",
              "      <td>-0.445667</td>\n",
              "      <td>-0.305785</td>\n",
              "      <td>-0.425618</td>\n",
              "      <td>-0.445706</td>\n",
              "      <td>-0.334718</td>\n",
              "      <td>-0.409379</td>\n",
              "      <td>-0.362912</td>\n",
              "      <td>-0.479160</td>\n",
              "      <td>-0.671175</td>\n",
              "    </tr>\n",
              "    <tr>\n",
              "      <th>50%</th>\n",
              "      <td>0.000000</td>\n",
              "      <td>0.003186</td>\n",
              "      <td>-0.260150</td>\n",
              "      <td>-0.051330</td>\n",
              "      <td>-0.244403</td>\n",
              "      <td>-0.260870</td>\n",
              "      <td>-0.070187</td>\n",
              "      <td>-0.232934</td>\n",
              "      <td>-0.080775</td>\n",
              "      <td>-0.230765</td>\n",
              "      <td>-0.144492</td>\n",
              "    </tr>\n",
              "    <tr>\n",
              "      <th>75%</th>\n",
              "      <td>0.000000</td>\n",
              "      <td>0.585722</td>\n",
              "      <td>0.098874</td>\n",
              "      <td>0.316930</td>\n",
              "      <td>0.117491</td>\n",
              "      <td>0.095591</td>\n",
              "      <td>0.298283</td>\n",
              "      <td>0.108514</td>\n",
              "      <td>0.337973</td>\n",
              "      <td>0.139985</td>\n",
              "      <td>0.492830</td>\n",
              "    </tr>\n",
              "    <tr>\n",
              "      <th>max</th>\n",
              "      <td>1.000000</td>\n",
              "      <td>3.324327</td>\n",
              "      <td>47.504463</td>\n",
              "      <td>11.367801</td>\n",
              "      <td>30.016115</td>\n",
              "      <td>45.284425</td>\n",
              "      <td>9.778090</td>\n",
              "      <td>26.317555</td>\n",
              "      <td>11.908359</td>\n",
              "      <td>24.149898</td>\n",
              "      <td>46.280276</td>\n",
              "    </tr>\n",
              "  </tbody>\n",
              "</table>\n",
              "</div>\n",
              "      <button class=\"colab-df-convert\" onclick=\"convertToInteractive('df-494a105c-1569-4f14-aaa7-f5da440943b2')\"\n",
              "              title=\"Convert this dataframe to an interactive table.\"\n",
              "              style=\"display:none;\">\n",
              "        \n",
              "  <svg xmlns=\"http://www.w3.org/2000/svg\" height=\"24px\"viewBox=\"0 0 24 24\"\n",
              "       width=\"24px\">\n",
              "    <path d=\"M0 0h24v24H0V0z\" fill=\"none\"/>\n",
              "    <path d=\"M18.56 5.44l.94 2.06.94-2.06 2.06-.94-2.06-.94-.94-2.06-.94 2.06-2.06.94zm-11 1L8.5 8.5l.94-2.06 2.06-.94-2.06-.94L8.5 2.5l-.94 2.06-2.06.94zm10 10l.94 2.06.94-2.06 2.06-.94-2.06-.94-.94-2.06-.94 2.06-2.06.94z\"/><path d=\"M17.41 7.96l-1.37-1.37c-.4-.4-.92-.59-1.43-.59-.52 0-1.04.2-1.43.59L10.3 9.45l-7.72 7.72c-.78.78-.78 2.05 0 2.83L4 21.41c.39.39.9.59 1.41.59.51 0 1.02-.2 1.41-.59l7.78-7.78 2.81-2.81c.8-.78.8-2.07 0-2.86zM5.41 20L4 18.59l7.72-7.72 1.47 1.35L5.41 20z\"/>\n",
              "  </svg>\n",
              "      </button>\n",
              "      \n",
              "  <style>\n",
              "    .colab-df-container {\n",
              "      display:flex;\n",
              "      flex-wrap:wrap;\n",
              "      gap: 12px;\n",
              "    }\n",
              "\n",
              "    .colab-df-convert {\n",
              "      background-color: #E8F0FE;\n",
              "      border: none;\n",
              "      border-radius: 50%;\n",
              "      cursor: pointer;\n",
              "      display: none;\n",
              "      fill: #1967D2;\n",
              "      height: 32px;\n",
              "      padding: 0 0 0 0;\n",
              "      width: 32px;\n",
              "    }\n",
              "\n",
              "    .colab-df-convert:hover {\n",
              "      background-color: #E2EBFA;\n",
              "      box-shadow: 0px 1px 2px rgba(60, 64, 67, 0.3), 0px 1px 3px 1px rgba(60, 64, 67, 0.15);\n",
              "      fill: #174EA6;\n",
              "    }\n",
              "\n",
              "    [theme=dark] .colab-df-convert {\n",
              "      background-color: #3B4455;\n",
              "      fill: #D2E3FC;\n",
              "    }\n",
              "\n",
              "    [theme=dark] .colab-df-convert:hover {\n",
              "      background-color: #434B5C;\n",
              "      box-shadow: 0px 1px 3px 1px rgba(0, 0, 0, 0.15);\n",
              "      filter: drop-shadow(0px 1px 2px rgba(0, 0, 0, 0.3));\n",
              "      fill: #FFFFFF;\n",
              "    }\n",
              "  </style>\n",
              "\n",
              "      <script>\n",
              "        const buttonEl =\n",
              "          document.querySelector('#df-494a105c-1569-4f14-aaa7-f5da440943b2 button.colab-df-convert');\n",
              "        buttonEl.style.display =\n",
              "          google.colab.kernel.accessAllowed ? 'block' : 'none';\n",
              "\n",
              "        async function convertToInteractive(key) {\n",
              "          const element = document.querySelector('#df-494a105c-1569-4f14-aaa7-f5da440943b2');\n",
              "          const dataTable =\n",
              "            await google.colab.kernel.invokeFunction('convertToInteractive',\n",
              "                                                     [key], {});\n",
              "          if (!dataTable) return;\n",
              "\n",
              "          const docLinkHtml = 'Like what you see? Visit the ' +\n",
              "            '<a target=\"_blank\" href=https://colab.research.google.com/notebooks/data_table.ipynb>data table notebook</a>'\n",
              "            + ' to learn more about interactive tables.';\n",
              "          element.innerHTML = '';\n",
              "          dataTable['output_type'] = 'display_data';\n",
              "          await google.colab.output.renderOutput(dataTable, element);\n",
              "          const docLink = document.createElement('div');\n",
              "          docLink.innerHTML = docLinkHtml;\n",
              "          element.appendChild(docLink);\n",
              "        }\n",
              "      </script>\n",
              "    </div>\n",
              "  </div>\n",
              "  "
            ]
          },
          "metadata": {},
          "execution_count": 131
        }
      ]
    },
    {
      "cell_type": "code",
      "source": [
        "df.boxplot(figsize=(20,20))"
      ],
      "metadata": {
        "colab": {
          "base_uri": "https://localhost:8080/",
          "height": 889
        },
        "id": "_dIPvMnZyMFz",
        "outputId": "1bf3a599-5243-483c-e837-75ca9b11ec48"
      },
      "execution_count": 132,
      "outputs": [
        {
          "output_type": "execute_result",
          "data": {
            "text/plain": [
              "<Axes: >"
            ]
          },
          "metadata": {},
          "execution_count": 132
        },
        {
          "output_type": "display_data",
          "data": {
            "text/plain": [
              "<Figure size 2000x2000 with 1 Axes>"
            ],
            "image/png": "[encoded data removed]"
          },
          "metadata": {}
        }
      ]
    },
    {
      "cell_type": "code",
      "source": [
        "df.hist(figsize=(20,20))"
      ],
      "metadata": {
        "colab": {
          "base_uri": "https://localhost:8080/",
          "height": 1000
        },
        "id": "eCzuCcnpyNdT",
        "outputId": "538f9769-103f-4227-8e43-6cbb4d584969"
      },
      "execution_count": 133,
      "outputs": [
        {
          "output_type": "execute_result",
          "data": {
            "text/plain": [
              "array([[<Axes: title={'center': 'class'}>,\n",
              "        <Axes: title={'center': 'Attr3'}>,\n",
              "        <Axes: title={'center': 'Attr8'}>],\n",
              "       [<Axes: title={'center': 'Attr11'}>,\n",
              "        <Axes: title={'center': 'Attr16'}>,\n",
              "        <Axes: title={'center': 'Attr17'}>],\n",
              "       [<Axes: title={'center': 'Attr22'}>,\n",
              "        <Axes: title={'center': 'Attr26'}>,\n",
              "        <Axes: title={'center': 'Attr35'}>],\n",
              "       [<Axes: title={'center': 'Attr50'}>,\n",
              "        <Axes: title={'center': 'Attr51'}>, <Axes: >]], dtype=object)"
            ]
          },
          "metadata": {},
          "execution_count": 133
        },
        {
          "output_type": "display_data",
          "data": {
            "text/plain": [
              "<Figure size 2000x2000 with 12 Axes>"
            ],
            "image/png": "[encoded data removed]"
          },
          "metadata": {}
        }
      ]
    },
    {
      "cell_type": "code",
      "source": [
        "sns.heatmap(df.corr())"
      ],
      "metadata": {
        "colab": {
          "base_uri": "https://localhost:8080/",
          "height": 482
        },
        "id": "Tm4xS4DgyUUO",
        "outputId": "ca9f78f9-c873-4102-91d6-59fa1acdd886"
      },
      "execution_count": 134,
      "outputs": [
        {
          "output_type": "execute_result",
          "data": {
            "text/plain": [
              "<Axes: >"
            ]
          },
          "metadata": {},
          "execution_count": 134
        },
        {
          "output_type": "display_data",
          "data": {
            "text/plain": [
              "<Figure size 640x480 with 2 Axes>"
            ],
            "image/png": "[encoded data removed]"
          },
          "metadata": {}
        }
      ]
    },
    {
      "cell_type": "code",
      "source": [
        "X = df.drop(columns=\"class\")\n",
        "Y = df['class']"
      ],
      "metadata": {
        "id": "KyoHfWU5yWSj"
      },
      "execution_count": 135,
      "outputs": []
    },
    {
      "cell_type": "code",
      "source": [
        "from sklearn.model_selection import train_test_split\n",
        "from scipy import stats\n",
        "from imblearn.over_sampling import SMOTE\n",
        "from sklearn import linear_model\n",
        "from sklearn import tree\n",
        "from sklearn import neural_network\n",
        "from sklearn.metrics import mean_squared_error\n",
        "from sklearn.metrics import confusion_matrix"
      ],
      "metadata": {
        "id": "iMqucwNxymM5"
      },
      "execution_count": 136,
      "outputs": []
    },
    {
      "cell_type": "code",
      "source": [
        "X_train, X_test, Y_train, Y_test = train_test_split(X,Y, test_size=0.3)"
      ],
      "metadata": {
        "id": "UaojYr-ByoaV"
      },
      "execution_count": 137,
      "outputs": []
    },
    {
      "cell_type": "code",
      "source": [
        "Y.value_counts()"
      ],
      "metadata": {
        "colab": {
          "base_uri": "https://localhost:8080/"
        },
        "id": "4i4ryqC8y_52",
        "outputId": "fc4a2e25-bbe3-466e-f9f3-ca1d5860fd48"
      },
      "execution_count": 138,
      "outputs": [
        {
          "output_type": "execute_result",
          "data": {
            "text/plain": [
              "0    9797\n",
              "1     203\n",
              "Name: class, dtype: int64"
            ]
          },
          "metadata": {},
          "execution_count": 138
        }
      ]
    },
    {
      "cell_type": "code",
      "source": [
        "for each in x.columns[f]:\n",
        "  X_train[each] = stats.zscore(X_train[each])\n",
        "  X_test[each] = stats.zscore(X_test[each])"
      ],
      "metadata": {
        "id": "8sgQYG_Pzhsh"
      },
      "execution_count": 94,
      "outputs": []
    },
    {
      "cell_type": "code",
      "source": [
        "# Oversample the train set\n",
        "X_train, Y_train = SMOTE().fit_resample(X_train, Y_train)"
      ],
      "metadata": {
        "id": "wahamr_CzBNe"
      },
      "execution_count": 95,
      "outputs": []
    },
    {
      "cell_type": "code",
      "source": [
        "log_model = linear_model.LogisticRegression(max_iter=1000)\n",
        "log_model.fit(X_train, Y_train)\n",
        "log_pred = log_model.predict(X_test)\n",
        "cm = confusion_matrix(Y_test, log_pred)\n",
        "print(\"Logistic Regression accuracy is: \", (cm[0,0] + cm[1,1]) / sum(sum(cm)))"
      ],
      "metadata": {
        "colab": {
          "base_uri": "https://localhost:8080/"
        },
        "id": "enBbz9Ck0Nsp",
        "outputId": "b2f2cc32-9f10-4475-88ca-b88241f5bc6a"
      },
      "execution_count": 96,
      "outputs": [
        {
          "output_type": "stream",
          "name": "stdout",
          "text": [
            "Logistic Regression accuracy is:  0.6772\n"
          ]
        }
      ]
    },
    {
      "cell_type": "code",
      "source": [
        "tree_model = tree.DecisionTreeClassifier()\n",
        "tree_model.fit(X_train, Y_train)\n",
        "tree_pred = tree_model.predict(X_test)\n",
        "cm = confusion_matrix(Y_test, tree_pred)\n",
        "print(\"Decision Tree Accuracy is: \", (cm[0,0] + cm[1,1]) / sum(sum(cm)))"
      ],
      "metadata": {
        "colab": {
          "base_uri": "https://localhost:8080/"
        },
        "id": "hgaw2xMr0Pwn",
        "outputId": "328c9421-0953-4376-9aee-f168f59bc4f9"
      },
      "execution_count": 97,
      "outputs": [
        {
          "output_type": "stream",
          "name": "stdout",
          "text": [
            "Decision Tree Accuracy is:  0.9136\n"
          ]
        }
      ]
    },
    {
      "cell_type": "code",
      "source": [
        "neural_model = neural_network.MLPClassifier()\n",
        "neural_model.fit(X_train, Y_train)\n",
        "nn_pred = neural_model.predict(X_test)\n",
        "cm = confusion_matrix(Y_test,nn_pred)\n",
        "print(\"neural network accuracy is\", (cm[0,0]+cm[1,1])/sum(sum(cm)))"
      ],
      "metadata": {
        "colab": {
          "base_uri": "https://localhost:8080/"
        },
        "id": "F042ngd90RUc",
        "outputId": "5bc04410-e063-42fb-e180-77d584ec8da1"
      },
      "execution_count": 98,
      "outputs": [
        {
          "output_type": "stream",
          "name": "stdout",
          "text": [
            "neural network accuracy is 0.802\n"
          ]
        },
        {
          "output_type": "stream",
          "name": "stderr",
          "text": [
            "/usr/local/lib/python3.9/dist-packages/sklearn/neural_network/_multilayer_perceptron.py:686: ConvergenceWarning: Stochastic Optimizer: Maximum iterations (200) reached and the optimization hasn't converged yet.\n",
            "  warnings.warn(\n"
          ]
        }
      ]
    },
    {
      "cell_type": "code",
      "source": [
        "from sklearn.metrics import roc_curve\n",
        "from sklearn import metrics\n",
        "\n",
        "log_pred_proba = log_model.predict_proba(X_test)[:,1] \n",
        "fpr1, tpr1, _ = metrics.roc_curve(Y_test,  log_pred_proba)\n",
        "auc1 = metrics.roc_auc_score(Y_test, log_pred_proba)\n",
        "\n",
        "tree_pred_prob = tree_model.predict_proba(X_test)[:,1]\n",
        "fpr2, tpr2, _ = metrics.roc_curve(Y_test,  tree_pred_prob)\n",
        "auc2 = metrics.roc_auc_score(Y_test, tree_pred_prob)\n",
        "\n",
        "nn_pred_prob = neural_model.predict(X_test)\n",
        "fpr5, tpr5, _ = metrics.roc_curve(Y_test,  nn_pred_prob)\n",
        "auc5 = metrics.roc_auc_score(Y_test, nn_pred_prob)\n",
        "\n",
        "plt.figure(figsize=(8,8))\n",
        "plt.plot([0, 1], [0, 1], 'k--')\n",
        "plt.plot(fpr1,tpr1,label=\"Logistic Regression AUC = \" + str(round(auc1,2)))\n",
        "plt.plot(fpr2,tpr2,label=\"Decision Tree AUC = \" + str(round(auc2,2)))\n",
        "plt.plot(fpr5,tpr5,label=\"Neural Network AUC = \" + str(round(auc5,2)))\n",
        "plt.legend(loc=4, title='Models', facecolor='white')\n",
        "plt.xlabel('False Positive Rate',size=18)\n",
        "plt.ylabel('True Positive Rate',size=18)\n",
        "plt.title('ROC',size=20)\n",
        "plt.box(False)"
      ],
      "metadata": {
        "colab": {
          "base_uri": "https://localhost:8080/",
          "height": 736
        },
        "id": "CHOOC0t90TOO",
        "outputId": "cf8b4aa4-7a3f-439c-bd2e-577047c20212"
      },
      "execution_count": 99,
      "outputs": [
        {
          "output_type": "display_data",
          "data": {
            "text/plain": [
              "<Figure size 800x800 with 1 Axes>"
            ],
            "image/png": "[encoded data removed]"
          },
          "metadata": {}
        }
      ]
    },
    {
      "cell_type": "markdown",
      "source": [
        "### **How to improve the results through programming by changing the features selected, data wrangling or parameter setting**\n",
        "\n",
        "To enhance the models, it is advisable to identify and eliminate outliers within the data set. This is because outliers have the potential to skew analysis results and reduce the statistical significance of the data. While removing outliers is a commonly used method, care must be taken as incorrect removal can lead to an underestimation of the variance within the data.\n",
        "\n",
        "Furthermore, the models can also be improved by optimizing hyperparameters through techniques such as bruteforcing or random sampling. The GridSearchCV method in sklearn enables us to explore the best parameter values from a set of predefined grid parameters. On the other hand, the RandomizedSearchCV from sklearn provides the capability to conduct a random search of hyperparameter combinations for a given classifier.\n",
        "\n",
        "Keras and TensorFlow allow for the development of deep learning models, which can capture complex relationships and patterns in the data that may be missed by simpler models. Deep learning models such as Long Short-Term Memory (LSTM) networks or Convolutional Neural Networks (CNN) can be used to model time-series data and make accurate predictions.\n",
        "\n",
        "Secondly, Keras and TensorFlow provide tools for hyperparameter tuning, which can help optimize the model's performance. Hyperparameter tuning involves finding the optimal values of the model's parameters, such as the learning rate, number of hidden layers, and number of nodes in each layer. By optimizing these parameters, the model's accuracy can be improved.\n",
        "\n",
        "Thirdly, Keras and TensorFlow provide tools for regularization, which can prevent overfitting of the model to the training data. Regularization techniques such as L1 and L2 regularization, dropout, and early stopping can be used to prevent the model from memorizing the training data and instead learn the underlying patterns in the data.\n",
        "\n",
        "Lastly, Keras and TensorFlow allow for the use of transfer learning, which can improve the accuracy of the model by leveraging pre-trained models. Transfer learning involves using a pre-trained model as a starting point for a new model, and fine-tuning the model on the specific task at hand. This can help improve the model's accuracy and reduce the amount of training data required."
      ],
      "metadata": {
        "id": "Ack2Lt9Y06Dg"
      }
    },
    {
      "cell_type": "code",
      "source": [
        "def IQR_outlier(col):\n",
        "    Q1 = df[col].quantile(0.25)\n",
        "    Q3 = df[col].quantile(0.75)\n",
        "    IQR = Q3 - Q1\n",
        "    lower_limit = Q3 - 1.5 * IQR\n",
        "    upper_limit = Q3 + 1.5 * IQR\n",
        "    df1 = df[(df[col] > lower_limit) & (df[col] < upper_limit)]\n",
        "    return df1\n",
        "\n",
        "\n",
        "for each in x.columns[f]:\n",
        "  df1 = IQR_outlier(each)"
      ],
      "metadata": {
        "id": "AyJcoJN00di1"
      },
      "execution_count": 100,
      "outputs": []
    },
    {
      "cell_type": "code",
      "source": [
        "df1"
      ],
      "metadata": {
        "colab": {
          "base_uri": "https://localhost:8080/",
          "height": 468
        },
        "id": "O23z6fJ21nyH",
        "outputId": "6e1330d1-d4c0-4a4d-db46-3b3d98f69b6a"
      },
      "execution_count": 101,
      "outputs": [
        {
          "output_type": "execute_result",
          "data": {
            "text/plain": [
              "      class     Attr3     Attr8    Attr11    Attr16    Attr17    Attr22  \\\n",
              "0         0 -0.040269  0.641242 -0.214423 -0.242796  0.579994 -0.403174   \n",
              "1         0  0.304381  0.074710 -0.835505 -0.603332  0.040666 -0.873423   \n",
              "2         0 -0.488404 -0.456287  0.156944 -0.367159 -0.464823  0.152437   \n",
              "3         0 -0.181684 -0.462971 -0.314756 -0.454498 -0.413685 -0.089462   \n",
              "4         0  0.678337  0.097183  0.918860  0.744187  0.062059  0.866831   \n",
              "...     ...       ...       ...       ...       ...       ...       ...   \n",
              "9995      0 -0.492082 -0.374739 -0.370083 -0.482695 -0.385492 -0.270130   \n",
              "9996      0  0.184167  0.689695 -0.390615  0.270885  0.660796 -0.390325   \n",
              "9997      0 -0.830634 -0.471830 -0.993696 -0.717923 -0.456194 -0.160235   \n",
              "9998      0  0.102420 -0.355796 -0.242626 -0.410858 -0.369189 -0.251173   \n",
              "9999      0  0.734155  0.293253 -0.318317 -0.097137  0.413778 -0.356295   \n",
              "\n",
              "        Attr26    Attr35    Attr50    Attr51  \n",
              "0    -0.206675 -0.435600 -0.192331 -1.027090  \n",
              "1    -0.591456 -0.986256  0.186782 -0.079059  \n",
              "2    -0.339401  0.766162 -0.468628  0.393587  \n",
              "3    -0.442992 -0.100314 -0.515188 -0.267896  \n",
              "4     0.675202  1.004640  0.342874 -0.210252  \n",
              "...        ...       ...       ...       ...  \n",
              "9995 -0.462706 -0.299502 -0.393569  0.398330  \n",
              "9996  0.361651 -0.432018  0.129862 -0.904155  \n",
              "9997 -0.655042 -0.178342 -0.513553  0.549923  \n",
              "9998 -0.386039 -0.278292 -0.529284 -0.729872  \n",
              "9999 -0.069654 -0.394500  0.637256 -0.479056  \n",
              "\n",
              "[9477 rows x 11 columns]"
            ],
            "text/html": [
              "\n",
              "  <div id=\"df-0ba2c47f-4b12-49df-b5ad-b676f20f3c70\">\n",
              "    <div class=\"colab-df-container\">\n",
              "      <div>\n",
              "<style scoped>\n",
              "    .dataframe tbody tr th:only-of-type {\n",
              "        vertical-align: middle;\n",
              "    }\n",
              "\n",
              "    .dataframe tbody tr th {\n",
              "        vertical-align: top;\n",
              "    }\n",
              "\n",
              "    .dataframe thead th {\n",
              "        text-align: right;\n",
              "    }\n",
              "</style>\n",
              "<table border=\"1\" class=\"dataframe\">\n",
              "  <thead>\n",
              "    <tr style=\"text-align: right;\">\n",
              "      <th></th>\n",
              "      <th>class</th>\n",
              "      <th>Attr3</th>\n",
              "      <th>Attr8</th>\n",
              "      <th>Attr11</th>\n",
              "      <th>Attr16</th>\n",
              "      <th>Attr17</th>\n",
              "      <th>Attr22</th>\n",
              "      <th>Attr26</th>\n",
              "      <th>Attr35</th>\n",
              "      <th>Attr50</th>\n",
              "      <th>Attr51</th>\n",
              "    </tr>\n",
              "  </thead>\n",
              "  <tbody>\n",
              "    <tr>\n",
              "      <th>0</th>\n",
              "      <td>0</td>\n",
              "      <td>-0.040269</td>\n",
              "      <td>0.641242</td>\n",
              "      <td>-0.214423</td>\n",
              "      <td>-0.242796</td>\n",
              "      <td>0.579994</td>\n",
              "      <td>-0.403174</td>\n",
              "      <td>-0.206675</td>\n",
              "      <td>-0.435600</td>\n",
              "      <td>-0.192331</td>\n",
              "      <td>-1.027090</td>\n",
              "    </tr>\n",
              "    <tr>\n",
              "      <th>1</th>\n",
              "      <td>0</td>\n",
              "      <td>0.304381</td>\n",
              "      <td>0.074710</td>\n",
              "      <td>-0.835505</td>\n",
              "      <td>-0.603332</td>\n",
              "      <td>0.040666</td>\n",
              "      <td>-0.873423</td>\n",
              "      <td>-0.591456</td>\n",
              "      <td>-0.986256</td>\n",
              "      <td>0.186782</td>\n",
              "      <td>-0.079059</td>\n",
              "    </tr>\n",
              "    <tr>\n",
              "      <th>2</th>\n",
              "      <td>0</td>\n",
              "      <td>-0.488404</td>\n",
              "      <td>-0.456287</td>\n",
              "      <td>0.156944</td>\n",
              "      <td>-0.367159</td>\n",
              "      <td>-0.464823</td>\n",
              "      <td>0.152437</td>\n",
              "      <td>-0.339401</td>\n",
              "      <td>0.766162</td>\n",
              "      <td>-0.468628</td>\n",
              "      <td>0.393587</td>\n",
              "    </tr>\n",
              "    <tr>\n",
              "      <th>3</th>\n",
              "      <td>0</td>\n",
              "      <td>-0.181684</td>\n",
              "      <td>-0.462971</td>\n",
              "      <td>-0.314756</td>\n",
              "      <td>-0.454498</td>\n",
              "      <td>-0.413685</td>\n",
              "      <td>-0.089462</td>\n",
              "      <td>-0.442992</td>\n",
              "      <td>-0.100314</td>\n",
              "      <td>-0.515188</td>\n",
              "      <td>-0.267896</td>\n",
              "    </tr>\n",
              "    <tr>\n",
              "      <th>4</th>\n",
              "      <td>0</td>\n",
              "      <td>0.678337</td>\n",
              "      <td>0.097183</td>\n",
              "      <td>0.918860</td>\n",
              "      <td>0.744187</td>\n",
              "      <td>0.062059</td>\n",
              "      <td>0.866831</td>\n",
              "      <td>0.675202</td>\n",
              "      <td>1.004640</td>\n",
              "      <td>0.342874</td>\n",
              "      <td>-0.210252</td>\n",
              "    </tr>\n",
              "    <tr>\n",
              "      <th>...</th>\n",
              "      <td>...</td>\n",
              "      <td>...</td>\n",
              "      <td>...</td>\n",
              "      <td>...</td>\n",
              "      <td>...</td>\n",
              "      <td>...</td>\n",
              "      <td>...</td>\n",
              "      <td>...</td>\n",
              "      <td>...</td>\n",
              "      <td>...</td>\n",
              "      <td>...</td>\n",
              "    </tr>\n",
              "    <tr>\n",
              "      <th>9995</th>\n",
              "      <td>0</td>\n",
              "      <td>-0.492082</td>\n",
              "      <td>-0.374739</td>\n",
              "      <td>-0.370083</td>\n",
              "      <td>-0.482695</td>\n",
              "      <td>-0.385492</td>\n",
              "      <td>-0.270130</td>\n",
              "      <td>-0.462706</td>\n",
              "      <td>-0.299502</td>\n",
              "      <td>-0.393569</td>\n",
              "      <td>0.398330</td>\n",
              "    </tr>\n",
              "    <tr>\n",
              "      <th>9996</th>\n",
              "      <td>0</td>\n",
              "      <td>0.184167</td>\n",
              "      <td>0.689695</td>\n",
              "      <td>-0.390615</td>\n",
              "      <td>0.270885</td>\n",
              "      <td>0.660796</td>\n",
              "      <td>-0.390325</td>\n",
              "      <td>0.361651</td>\n",
              "      <td>-0.432018</td>\n",
              "      <td>0.129862</td>\n",
              "      <td>-0.904155</td>\n",
              "    </tr>\n",
              "    <tr>\n",
              "      <th>9997</th>\n",
              "      <td>0</td>\n",
              "      <td>-0.830634</td>\n",
              "      <td>-0.471830</td>\n",
              "      <td>-0.993696</td>\n",
              "      <td>-0.717923</td>\n",
              "      <td>-0.456194</td>\n",
              "      <td>-0.160235</td>\n",
              "      <td>-0.655042</td>\n",
              "      <td>-0.178342</td>\n",
              "      <td>-0.513553</td>\n",
              "      <td>0.549923</td>\n",
              "    </tr>\n",
              "    <tr>\n",
              "      <th>9998</th>\n",
              "      <td>0</td>\n",
              "      <td>0.102420</td>\n",
              "      <td>-0.355796</td>\n",
              "      <td>-0.242626</td>\n",
              "      <td>-0.410858</td>\n",
              "      <td>-0.369189</td>\n",
              "      <td>-0.251173</td>\n",
              "      <td>-0.386039</td>\n",
              "      <td>-0.278292</td>\n",
              "      <td>-0.529284</td>\n",
              "      <td>-0.729872</td>\n",
              "    </tr>\n",
              "    <tr>\n",
              "      <th>9999</th>\n",
              "      <td>0</td>\n",
              "      <td>0.734155</td>\n",
              "      <td>0.293253</td>\n",
              "      <td>-0.318317</td>\n",
              "      <td>-0.097137</td>\n",
              "      <td>0.413778</td>\n",
              "      <td>-0.356295</td>\n",
              "      <td>-0.069654</td>\n",
              "      <td>-0.394500</td>\n",
              "      <td>0.637256</td>\n",
              "      <td>-0.479056</td>\n",
              "    </tr>\n",
              "  </tbody>\n",
              "</table>\n",
              "<p>9477 rows × 11 columns</p>\n",
              "</div>\n",
              "      <button class=\"colab-df-convert\" onclick=\"convertToInteractive('df-0ba2c47f-4b12-49df-b5ad-b676f20f3c70')\"\n",
              "              title=\"Convert this dataframe to an interactive table.\"\n",
              "              style=\"display:none;\">\n",
              "        \n",
              "  <svg xmlns=\"http://www.w3.org/2000/svg\" height=\"24px\"viewBox=\"0 0 24 24\"\n",
              "       width=\"24px\">\n",
              "    <path d=\"M0 0h24v24H0V0z\" fill=\"none\"/>\n",
              "    <path d=\"M18.56 5.44l.94 2.06.94-2.06 2.06-.94-2.06-.94-.94-2.06-.94 2.06-2.06.94zm-11 1L8.5 8.5l.94-2.06 2.06-.94-2.06-.94L8.5 2.5l-.94 2.06-2.06.94zm10 10l.94 2.06.94-2.06 2.06-.94-2.06-.94-.94-2.06-.94 2.06-2.06.94z\"/><path d=\"M17.41 7.96l-1.37-1.37c-.4-.4-.92-.59-1.43-.59-.52 0-1.04.2-1.43.59L10.3 9.45l-7.72 7.72c-.78.78-.78 2.05 0 2.83L4 21.41c.39.39.9.59 1.41.59.51 0 1.02-.2 1.41-.59l7.78-7.78 2.81-2.81c.8-.78.8-2.07 0-2.86zM5.41 20L4 18.59l7.72-7.72 1.47 1.35L5.41 20z\"/>\n",
              "  </svg>\n",
              "      </button>\n",
              "      \n",
              "  <style>\n",
              "    .colab-df-container {\n",
              "      display:flex;\n",
              "      flex-wrap:wrap;\n",
              "      gap: 12px;\n",
              "    }\n",
              "\n",
              "    .colab-df-convert {\n",
              "      background-color: #E8F0FE;\n",
              "      border: none;\n",
              "      border-radius: 50%;\n",
              "      cursor: pointer;\n",
              "      display: none;\n",
              "      fill: #1967D2;\n",
              "      height: 32px;\n",
              "      padding: 0 0 0 0;\n",
              "      width: 32px;\n",
              "    }\n",
              "\n",
              "    .colab-df-convert:hover {\n",
              "      background-color: #E2EBFA;\n",
              "      box-shadow: 0px 1px 2px rgba(60, 64, 67, 0.3), 0px 1px 3px 1px rgba(60, 64, 67, 0.15);\n",
              "      fill: #174EA6;\n",
              "    }\n",
              "\n",
              "    [theme=dark] .colab-df-convert {\n",
              "      background-color: #3B4455;\n",
              "      fill: #D2E3FC;\n",
              "    }\n",
              "\n",
              "    [theme=dark] .colab-df-convert:hover {\n",
              "      background-color: #434B5C;\n",
              "      box-shadow: 0px 1px 3px 1px rgba(0, 0, 0, 0.15);\n",
              "      filter: drop-shadow(0px 1px 2px rgba(0, 0, 0, 0.3));\n",
              "      fill: #FFFFFF;\n",
              "    }\n",
              "  </style>\n",
              "\n",
              "      <script>\n",
              "        const buttonEl =\n",
              "          document.querySelector('#df-0ba2c47f-4b12-49df-b5ad-b676f20f3c70 button.colab-df-convert');\n",
              "        buttonEl.style.display =\n",
              "          google.colab.kernel.accessAllowed ? 'block' : 'none';\n",
              "\n",
              "        async function convertToInteractive(key) {\n",
              "          const element = document.querySelector('#df-0ba2c47f-4b12-49df-b5ad-b676f20f3c70');\n",
              "          const dataTable =\n",
              "            await google.colab.kernel.invokeFunction('convertToInteractive',\n",
              "                                                     [key], {});\n",
              "          if (!dataTable) return;\n",
              "\n",
              "          const docLinkHtml = 'Like what you see? Visit the ' +\n",
              "            '<a target=\"_blank\" href=https://colab.research.google.com/notebooks/data_table.ipynb>data table notebook</a>'\n",
              "            + ' to learn more about interactive tables.';\n",
              "          element.innerHTML = '';\n",
              "          dataTable['output_type'] = 'display_data';\n",
              "          await google.colab.output.renderOutput(dataTable, element);\n",
              "          const docLink = document.createElement('div');\n",
              "          docLink.innerHTML = docLinkHtml;\n",
              "          element.appendChild(docLink);\n",
              "        }\n",
              "      </script>\n",
              "    </div>\n",
              "  </div>\n",
              "  "
            ]
          },
          "metadata": {},
          "execution_count": 101
        }
      ]
    },
    {
      "cell_type": "code",
      "source": [
        "X = df1.drop(columns=\"class\")\n",
        "Y = df1['class']\n",
        "X_train, X_test, Y_train, Y_test = train_test_split(X,Y)"
      ],
      "metadata": {
        "id": "_weA6XNq1rug"
      },
      "execution_count": 102,
      "outputs": []
    },
    {
      "cell_type": "code",
      "source": [
        "for each in x.columns[f]:\n",
        "  X_train[each] = stats.zscore(X_train[each])\n",
        "  X_test[each] = stats.zscore(X_test[each])"
      ],
      "metadata": {
        "id": "78n0OFG113mj"
      },
      "execution_count": 103,
      "outputs": []
    },
    {
      "cell_type": "code",
      "source": [
        "X_train, Y_train = SMOTE().fit_resample(X_train, Y_train)"
      ],
      "metadata": {
        "id": "H6k5YSAv16Fq"
      },
      "execution_count": 104,
      "outputs": []
    },
    {
      "cell_type": "code",
      "source": [
        "log_model = linear_model.LogisticRegression(max_iter=1000)\n",
        "log_model.fit(X_train, Y_train)\n",
        "log_pred = log_model.predict(X_test)\n",
        "cm = confusion_matrix(Y_test, log_pred)\n",
        "print(\"Logistic Regression accuracy is: \", round((cm[0,0] + cm[1,1]) / sum(sum(cm)), 3))"
      ],
      "metadata": {
        "colab": {
          "base_uri": "https://localhost:8080/"
        },
        "id": "OLU6PdU618C3",
        "outputId": "77db7049-40af-4f08-9a8a-7d9df1f824b4"
      },
      "execution_count": 105,
      "outputs": [
        {
          "output_type": "stream",
          "name": "stdout",
          "text": [
            "Logistic Regression accuracy is:  0.697\n"
          ]
        }
      ]
    },
    {
      "cell_type": "code",
      "source": [
        "from keras.models import Sequential\n",
        "from keras.layers import Dense,Dropout"
      ],
      "metadata": {
        "id": "DlzXAjxB1_Z_"
      },
      "execution_count": 106,
      "outputs": []
    },
    {
      "cell_type": "code",
      "source": [
        "model = Sequential()"
      ],
      "metadata": {
        "id": "vDaUtISr3OBy"
      },
      "execution_count": 107,
      "outputs": []
    },
    {
      "cell_type": "code",
      "source": [
        "model.add(Dense (20, input_dim=len(X_train.columns),activation=\"relu\"))\n",
        "model.add(Dropout(0.1))"
      ],
      "metadata": {
        "id": "bLlApi-L3RGx"
      },
      "execution_count": 108,
      "outputs": []
    },
    {
      "cell_type": "code",
      "source": [
        "model.add(Dense (20, input_dim=len(X_train.columns),activation=\"relu\"))\n",
        "model.add(Dropout(0.1))"
      ],
      "metadata": {
        "id": "DduDAvxw3SDp"
      },
      "execution_count": 109,
      "outputs": []
    },
    {
      "cell_type": "code",
      "source": [
        "model.add(Dense(1, input_dim=len(X_train.columns), activation=\"sigmoid\"))"
      ],
      "metadata": {
        "id": "My1GBz3O3TKE"
      },
      "execution_count": 110,
      "outputs": []
    },
    {
      "cell_type": "code",
      "source": [
        "model.summary()"
      ],
      "metadata": {
        "colab": {
          "base_uri": "https://localhost:8080/"
        },
        "id": "MBFgjuly3UJQ",
        "outputId": "2da22a94-9c6f-48b0-ce3a-1290194a6096"
      },
      "execution_count": 111,
      "outputs": [
        {
          "output_type": "stream",
          "name": "stdout",
          "text": [
            "Model: \"sequential\"\n",
            "_________________________________________________________________\n",
            " Layer (type)                Output Shape              Param #   \n",
            "=================================================================\n",
            " dense (Dense)               (None, 20)                220       \n",
            "                                                                 \n",
            " dropout (Dropout)           (None, 20)                0         \n",
            "                                                                 \n",
            " dense_1 (Dense)             (None, 20)                420       \n",
            "                                                                 \n",
            " dropout_1 (Dropout)         (None, 20)                0         \n",
            "                                                                 \n",
            " dense_2 (Dense)             (None, 1)                 21        \n",
            "                                                                 \n",
            "=================================================================\n",
            "Total params: 661\n",
            "Trainable params: 661\n",
            "Non-trainable params: 0\n",
            "_________________________________________________________________\n"
          ]
        }
      ]
    },
    {
      "cell_type": "code",
      "source": [
        "model.compile(loss=\"binary_crossentropy\", optimizer=\"adam\", metrics=[\"accuracy\"])"
      ],
      "metadata": {
        "id": "nL6kvtMs3VaR"
      },
      "execution_count": 112,
      "outputs": []
    },
    {
      "cell_type": "code",
      "source": [
        "h= model. fit (X_train, Y_train, batch_size=10, epochs=200)"
      ],
      "metadata": {
        "colab": {
          "base_uri": "https://localhost:8080/"
        },
        "id": "ZqNUYcMd3XZ9",
        "outputId": "39ee2d80-19f3-4870-b940-1c8cb9ea8a62"
      },
      "execution_count": 113,
      "outputs": [
        {
          "output_type": "stream",
          "name": "stdout",
          "text": [
            "Epoch 1/200\n",
            "1390/1390 [==============================] - 6s 3ms/step - loss: 0.5495 - accuracy: 0.7196\n",
            "Epoch 2/200\n",
            "1390/1390 [==============================] - 4s 3ms/step - loss: 0.4674 - accuracy: 0.7919\n",
            "Epoch 3/200\n",
            "1390/1390 [==============================] - 3s 2ms/step - loss: 0.4421 - accuracy: 0.8122\n",
            "Epoch 4/200\n",
            "1390/1390 [==============================] - 4s 3ms/step - loss: 0.4215 - accuracy: 0.8242\n",
            "Epoch 5/200\n",
            "1390/1390 [==============================] - 3s 2ms/step - loss: 0.4033 - accuracy: 0.8334\n",
            "Epoch 6/200\n",
            "1390/1390 [==============================] - 6s 4ms/step - loss: 0.3860 - accuracy: 0.8399\n",
            "Epoch 7/200\n",
            "1390/1390 [==============================] - 4s 3ms/step - loss: 0.3771 - accuracy: 0.8448\n",
            "Epoch 8/200\n",
            "1390/1390 [==============================] - 3s 2ms/step - loss: 0.3688 - accuracy: 0.8469\n",
            "Epoch 9/200\n",
            "1390/1390 [==============================] - 8s 6ms/step - loss: 0.3608 - accuracy: 0.8511\n",
            "Epoch 10/200\n",
            "1390/1390 [==============================] - 6s 4ms/step - loss: 0.3526 - accuracy: 0.8568\n",
            "Epoch 11/200\n",
            "1390/1390 [==============================] - 4s 3ms/step - loss: 0.3493 - accuracy: 0.8537\n",
            "Epoch 12/200\n",
            "1390/1390 [==============================] - 4s 3ms/step - loss: 0.3446 - accuracy: 0.8588\n",
            "Epoch 13/200\n",
            "1390/1390 [==============================] - 3s 2ms/step - loss: 0.3374 - accuracy: 0.8623\n",
            "Epoch 14/200\n",
            "1390/1390 [==============================] - 3s 2ms/step - loss: 0.3335 - accuracy: 0.8624\n",
            "Epoch 15/200\n",
            "1390/1390 [==============================] - 3s 2ms/step - loss: 0.3303 - accuracy: 0.8660\n",
            "Epoch 16/200\n",
            "1390/1390 [==============================] - 3s 2ms/step - loss: 0.3269 - accuracy: 0.8650\n",
            "Epoch 17/200\n",
            "1390/1390 [==============================] - 3s 2ms/step - loss: 0.3261 - accuracy: 0.8668\n",
            "Epoch 18/200\n",
            "1390/1390 [==============================] - 3s 2ms/step - loss: 0.3230 - accuracy: 0.8688\n",
            "Epoch 19/200\n",
            "1390/1390 [==============================] - 3s 2ms/step - loss: 0.3205 - accuracy: 0.8701\n",
            "Epoch 20/200\n",
            "1390/1390 [==============================] - 3s 2ms/step - loss: 0.3183 - accuracy: 0.8689\n",
            "Epoch 21/200\n",
            "1390/1390 [==============================] - 2s 2ms/step - loss: 0.3143 - accuracy: 0.8732\n",
            "Epoch 22/200\n",
            "1390/1390 [==============================] - 3s 2ms/step - loss: 0.3171 - accuracy: 0.8711\n",
            "Epoch 23/200\n",
            "1390/1390 [==============================] - 5s 3ms/step - loss: 0.3186 - accuracy: 0.8703\n",
            "Epoch 24/200\n",
            "1390/1390 [==============================] - 3s 2ms/step - loss: 0.3098 - accuracy: 0.8761\n",
            "Epoch 25/200\n",
            "1390/1390 [==============================] - 3s 2ms/step - loss: 0.3052 - accuracy: 0.8792\n",
            "Epoch 26/200\n",
            "1390/1390 [==============================] - 3s 2ms/step - loss: 0.3084 - accuracy: 0.8762\n",
            "Epoch 27/200\n",
            "1390/1390 [==============================] - 3s 2ms/step - loss: 0.3035 - accuracy: 0.8773\n",
            "Epoch 28/200\n",
            "1390/1390 [==============================] - 3s 2ms/step - loss: 0.3032 - accuracy: 0.8747\n",
            "Epoch 29/200\n",
            "1390/1390 [==============================] - 3s 2ms/step - loss: 0.3032 - accuracy: 0.8802\n",
            "Epoch 30/200\n",
            "1390/1390 [==============================] - 3s 2ms/step - loss: 0.2997 - accuracy: 0.8794\n",
            "Epoch 31/200\n",
            "1390/1390 [==============================] - 3s 2ms/step - loss: 0.2941 - accuracy: 0.8830\n",
            "Epoch 32/200\n",
            "1390/1390 [==============================] - 3s 2ms/step - loss: 0.2978 - accuracy: 0.8820\n",
            "Epoch 33/200\n",
            "1390/1390 [==============================] - 3s 2ms/step - loss: 0.2975 - accuracy: 0.8828\n",
            "Epoch 34/200\n",
            "1390/1390 [==============================] - 3s 2ms/step - loss: 0.2954 - accuracy: 0.8807\n",
            "Epoch 35/200\n",
            "1390/1390 [==============================] - 3s 2ms/step - loss: 0.2925 - accuracy: 0.8817\n",
            "Epoch 36/200\n",
            "1390/1390 [==============================] - 3s 2ms/step - loss: 0.2933 - accuracy: 0.8837\n",
            "Epoch 37/200\n",
            "1390/1390 [==============================] - 3s 2ms/step - loss: 0.2929 - accuracy: 0.8822\n",
            "Epoch 38/200\n",
            "1390/1390 [==============================] - 4s 3ms/step - loss: 0.2881 - accuracy: 0.8851\n",
            "Epoch 39/200\n",
            "1390/1390 [==============================] - 3s 2ms/step - loss: 0.2892 - accuracy: 0.8867\n",
            "Epoch 40/200\n",
            "1390/1390 [==============================] - 3s 2ms/step - loss: 0.2892 - accuracy: 0.8860\n",
            "Epoch 41/200\n",
            "1390/1390 [==============================] - 3s 2ms/step - loss: 0.2884 - accuracy: 0.8843\n",
            "Epoch 42/200\n",
            "1390/1390 [==============================] - 3s 2ms/step - loss: 0.2838 - accuracy: 0.8866\n",
            "Epoch 43/200\n",
            "1390/1390 [==============================] - 4s 3ms/step - loss: 0.2840 - accuracy: 0.8842\n",
            "Epoch 44/200\n",
            "1390/1390 [==============================] - 3s 2ms/step - loss: 0.2904 - accuracy: 0.8849\n",
            "Epoch 45/200\n",
            "1390/1390 [==============================] - 2s 2ms/step - loss: 0.2884 - accuracy: 0.8850\n",
            "Epoch 46/200\n",
            "1390/1390 [==============================] - 3s 2ms/step - loss: 0.2848 - accuracy: 0.8851\n",
            "Epoch 47/200\n",
            "1390/1390 [==============================] - 3s 2ms/step - loss: 0.2823 - accuracy: 0.8874\n",
            "Epoch 48/200\n",
            "1390/1390 [==============================] - 3s 2ms/step - loss: 0.2799 - accuracy: 0.8902\n",
            "Epoch 49/200\n",
            "1390/1390 [==============================] - 3s 2ms/step - loss: 0.2800 - accuracy: 0.8906\n",
            "Epoch 50/200\n",
            "1390/1390 [==============================] - 3s 2ms/step - loss: 0.2772 - accuracy: 0.8903\n",
            "Epoch 51/200\n",
            "1390/1390 [==============================] - 3s 2ms/step - loss: 0.2816 - accuracy: 0.8907\n",
            "Epoch 52/200\n",
            "1390/1390 [==============================] - 3s 2ms/step - loss: 0.2734 - accuracy: 0.8925\n",
            "Epoch 53/200\n",
            "1390/1390 [==============================] - 3s 2ms/step - loss: 0.2808 - accuracy: 0.8879\n",
            "Epoch 54/200\n",
            "1390/1390 [==============================] - 3s 2ms/step - loss: 0.2707 - accuracy: 0.8938\n",
            "Epoch 55/200\n",
            "1390/1390 [==============================] - 3s 2ms/step - loss: 0.2783 - accuracy: 0.8904\n",
            "Epoch 56/200\n",
            "1390/1390 [==============================] - 3s 2ms/step - loss: 0.2791 - accuracy: 0.8924\n",
            "Epoch 57/200\n",
            "1390/1390 [==============================] - 3s 2ms/step - loss: 0.2732 - accuracy: 0.8921\n",
            "Epoch 58/200\n",
            "1390/1390 [==============================] - 6s 4ms/step - loss: 0.2709 - accuracy: 0.8912\n",
            "Epoch 59/200\n",
            "1390/1390 [==============================] - 6s 5ms/step - loss: 0.2730 - accuracy: 0.8950\n",
            "Epoch 60/200\n",
            "1390/1390 [==============================] - 3s 2ms/step - loss: 0.2736 - accuracy: 0.8953\n",
            "Epoch 61/200\n",
            "1390/1390 [==============================] - 3s 2ms/step - loss: 0.2747 - accuracy: 0.8944\n",
            "Epoch 62/200\n",
            "1390/1390 [==============================] - 4s 3ms/step - loss: 0.2678 - accuracy: 0.8940\n",
            "Epoch 63/200\n",
            "1390/1390 [==============================] - 3s 2ms/step - loss: 0.2687 - accuracy: 0.8930\n",
            "Epoch 64/200\n",
            "1390/1390 [==============================] - 2s 2ms/step - loss: 0.2702 - accuracy: 0.8954\n",
            "Epoch 65/200\n",
            "1390/1390 [==============================] - 3s 2ms/step - loss: 0.2695 - accuracy: 0.8929\n",
            "Epoch 66/200\n",
            "1390/1390 [==============================] - 3s 2ms/step - loss: 0.2679 - accuracy: 0.8974\n",
            "Epoch 67/200\n",
            "1390/1390 [==============================] - 4s 3ms/step - loss: 0.2745 - accuracy: 0.8932\n",
            "Epoch 68/200\n",
            "1390/1390 [==============================] - 3s 2ms/step - loss: 0.2689 - accuracy: 0.8958\n",
            "Epoch 69/200\n",
            "1390/1390 [==============================] - 3s 2ms/step - loss: 0.2689 - accuracy: 0.8964\n",
            "Epoch 70/200\n",
            "1390/1390 [==============================] - 3s 2ms/step - loss: 0.2691 - accuracy: 0.8953\n",
            "Epoch 71/200\n",
            "1390/1390 [==============================] - 3s 2ms/step - loss: 0.2712 - accuracy: 0.8974\n",
            "Epoch 72/200\n",
            "1390/1390 [==============================] - 3s 2ms/step - loss: 0.2706 - accuracy: 0.8947\n",
            "Epoch 73/200\n",
            "1390/1390 [==============================] - 3s 2ms/step - loss: 0.2677 - accuracy: 0.8984\n",
            "Epoch 74/200\n",
            "1390/1390 [==============================] - 3s 2ms/step - loss: 0.2672 - accuracy: 0.8945\n",
            "Epoch 75/200\n",
            "1390/1390 [==============================] - 3s 2ms/step - loss: 0.2703 - accuracy: 0.8956\n",
            "Epoch 76/200\n",
            "1390/1390 [==============================] - 3s 2ms/step - loss: 0.2671 - accuracy: 0.8956\n",
            "Epoch 77/200\n",
            "1390/1390 [==============================] - 3s 2ms/step - loss: 0.2690 - accuracy: 0.8973\n",
            "Epoch 78/200\n",
            "1390/1390 [==============================] - 4s 3ms/step - loss: 0.2705 - accuracy: 0.8961\n",
            "Epoch 79/200\n",
            "1390/1390 [==============================] - 3s 2ms/step - loss: 0.2661 - accuracy: 0.8984\n",
            "Epoch 80/200\n",
            "1390/1390 [==============================] - 2s 2ms/step - loss: 0.2640 - accuracy: 0.8970\n",
            "Epoch 81/200\n",
            "1390/1390 [==============================] - 3s 2ms/step - loss: 0.2676 - accuracy: 0.8984\n",
            "Epoch 82/200\n",
            "1390/1390 [==============================] - 3s 2ms/step - loss: 0.2635 - accuracy: 0.8975\n",
            "Epoch 83/200\n",
            "1390/1390 [==============================] - 4s 3ms/step - loss: 0.2584 - accuracy: 0.9002\n",
            "Epoch 84/200\n",
            "1390/1390 [==============================] - 3s 2ms/step - loss: 0.2617 - accuracy: 0.8993\n",
            "Epoch 85/200\n",
            "1390/1390 [==============================] - 3s 2ms/step - loss: 0.2673 - accuracy: 0.8965\n",
            "Epoch 86/200\n",
            "1390/1390 [==============================] - 3s 2ms/step - loss: 0.2632 - accuracy: 0.8964\n",
            "Epoch 87/200\n",
            "1390/1390 [==============================] - 3s 2ms/step - loss: 0.2591 - accuracy: 0.9020\n",
            "Epoch 88/200\n",
            "1390/1390 [==============================] - 4s 3ms/step - loss: 0.2645 - accuracy: 0.8968\n",
            "Epoch 89/200\n",
            "1390/1390 [==============================] - 3s 2ms/step - loss: 0.2653 - accuracy: 0.8971\n",
            "Epoch 90/200\n",
            "1390/1390 [==============================] - 3s 2ms/step - loss: 0.2671 - accuracy: 0.8962\n",
            "Epoch 91/200\n",
            "1390/1390 [==============================] - 3s 2ms/step - loss: 0.2604 - accuracy: 0.8972\n",
            "Epoch 92/200\n",
            "1390/1390 [==============================] - 3s 2ms/step - loss: 0.2621 - accuracy: 0.9021\n",
            "Epoch 93/200\n",
            "1390/1390 [==============================] - 3s 2ms/step - loss: 0.2598 - accuracy: 0.9004\n",
            "Epoch 94/200\n",
            "1390/1390 [==============================] - 3s 2ms/step - loss: 0.2568 - accuracy: 0.9011\n",
            "Epoch 95/200\n",
            "1390/1390 [==============================] - 2s 2ms/step - loss: 0.2620 - accuracy: 0.8989\n",
            "Epoch 96/200\n",
            "1390/1390 [==============================] - 2s 2ms/step - loss: 0.2513 - accuracy: 0.9040\n",
            "Epoch 97/200\n",
            "1390/1390 [==============================] - 3s 2ms/step - loss: 0.2631 - accuracy: 0.8975\n",
            "Epoch 98/200\n",
            "1390/1390 [==============================] - 3s 2ms/step - loss: 0.2583 - accuracy: 0.9002\n",
            "Epoch 99/200\n",
            "1390/1390 [==============================] - 3s 2ms/step - loss: 0.2614 - accuracy: 0.8982\n",
            "Epoch 100/200\n",
            "1390/1390 [==============================] - 3s 2ms/step - loss: 0.2590 - accuracy: 0.8967\n",
            "Epoch 101/200\n",
            "1390/1390 [==============================] - 3s 2ms/step - loss: 0.2568 - accuracy: 0.9013\n",
            "Epoch 102/200\n",
            "1390/1390 [==============================] - 3s 2ms/step - loss: 0.2604 - accuracy: 0.8979\n",
            "Epoch 103/200\n",
            "1390/1390 [==============================] - 4s 3ms/step - loss: 0.2592 - accuracy: 0.8987\n",
            "Epoch 104/200\n",
            "1390/1390 [==============================] - 3s 2ms/step - loss: 0.2603 - accuracy: 0.9027\n",
            "Epoch 105/200\n",
            "1390/1390 [==============================] - 3s 2ms/step - loss: 0.2616 - accuracy: 0.8999\n",
            "Epoch 106/200\n",
            "1390/1390 [==============================] - 3s 2ms/step - loss: 0.2605 - accuracy: 0.8995\n",
            "Epoch 107/200\n",
            "1390/1390 [==============================] - 3s 2ms/step - loss: 0.2653 - accuracy: 0.8981\n",
            "Epoch 108/200\n",
            "1390/1390 [==============================] - 3s 2ms/step - loss: 0.2588 - accuracy: 0.9011\n",
            "Epoch 109/200\n",
            "1390/1390 [==============================] - 3s 2ms/step - loss: 0.2611 - accuracy: 0.8986\n",
            "Epoch 110/200\n",
            "1390/1390 [==============================] - 3s 2ms/step - loss: 0.2609 - accuracy: 0.8999\n",
            "Epoch 111/200\n",
            "1390/1390 [==============================] - 3s 2ms/step - loss: 0.2593 - accuracy: 0.9017\n",
            "Epoch 112/200\n",
            "1390/1390 [==============================] - 3s 2ms/step - loss: 0.2589 - accuracy: 0.8997\n",
            "Epoch 113/200\n",
            "1390/1390 [==============================] - 3s 2ms/step - loss: 0.2625 - accuracy: 0.8982\n",
            "Epoch 114/200\n",
            "1390/1390 [==============================] - 3s 2ms/step - loss: 0.2514 - accuracy: 0.9023\n",
            "Epoch 115/200\n",
            "1390/1390 [==============================] - 3s 2ms/step - loss: 0.2574 - accuracy: 0.9005\n",
            "Epoch 116/200\n",
            "1390/1390 [==============================] - 3s 2ms/step - loss: 0.2557 - accuracy: 0.8996\n",
            "Epoch 117/200\n",
            "1390/1390 [==============================] - 3s 2ms/step - loss: 0.2582 - accuracy: 0.9012\n",
            "Epoch 118/200\n",
            "1390/1390 [==============================] - 3s 2ms/step - loss: 0.2515 - accuracy: 0.9049\n",
            "Epoch 119/200\n",
            "1390/1390 [==============================] - 3s 2ms/step - loss: 0.2565 - accuracy: 0.9020\n",
            "Epoch 120/200\n",
            "1390/1390 [==============================] - 3s 2ms/step - loss: 0.2581 - accuracy: 0.9017\n",
            "Epoch 121/200\n",
            "1390/1390 [==============================] - 3s 2ms/step - loss: 0.2594 - accuracy: 0.9011\n",
            "Epoch 122/200\n",
            "1390/1390 [==============================] - 3s 2ms/step - loss: 0.2587 - accuracy: 0.8997\n",
            "Epoch 123/200\n",
            "1390/1390 [==============================] - 3s 2ms/step - loss: 0.2540 - accuracy: 0.9017\n",
            "Epoch 124/200\n",
            "1390/1390 [==============================] - 3s 2ms/step - loss: 0.2581 - accuracy: 0.8986\n",
            "Epoch 125/200\n",
            "1390/1390 [==============================] - 3s 2ms/step - loss: 0.2572 - accuracy: 0.8992\n",
            "Epoch 126/200\n",
            "1390/1390 [==============================] - 3s 2ms/step - loss: 0.2522 - accuracy: 0.9052\n",
            "Epoch 127/200\n",
            "1390/1390 [==============================] - 3s 2ms/step - loss: 0.2566 - accuracy: 0.9013\n",
            "Epoch 128/200\n",
            "1390/1390 [==============================] - 3s 2ms/step - loss: 0.2607 - accuracy: 0.9000\n",
            "Epoch 129/200\n",
            "1390/1390 [==============================] - 3s 2ms/step - loss: 0.2609 - accuracy: 0.9015\n",
            "Epoch 130/200\n",
            "1390/1390 [==============================] - 3s 2ms/step - loss: 0.2530 - accuracy: 0.9022\n",
            "Epoch 131/200\n",
            "1390/1390 [==============================] - 3s 2ms/step - loss: 0.2537 - accuracy: 0.9034\n",
            "Epoch 132/200\n",
            "1390/1390 [==============================] - 3s 2ms/step - loss: 0.2542 - accuracy: 0.9017\n",
            "Epoch 133/200\n",
            "1390/1390 [==============================] - 4s 3ms/step - loss: 0.2525 - accuracy: 0.9027\n",
            "Epoch 134/200\n",
            "1390/1390 [==============================] - 3s 2ms/step - loss: 0.2548 - accuracy: 0.9020\n",
            "Epoch 135/200\n",
            "1390/1390 [==============================] - 3s 2ms/step - loss: 0.2522 - accuracy: 0.9055\n",
            "Epoch 136/200\n",
            "1390/1390 [==============================] - 3s 2ms/step - loss: 0.2536 - accuracy: 0.9058\n",
            "Epoch 137/200\n",
            "1390/1390 [==============================] - 3s 2ms/step - loss: 0.2499 - accuracy: 0.9036\n",
            "Epoch 138/200\n",
            "1390/1390 [==============================] - 3s 2ms/step - loss: 0.2549 - accuracy: 0.9040\n",
            "Epoch 139/200\n",
            "1390/1390 [==============================] - 3s 2ms/step - loss: 0.2546 - accuracy: 0.9039\n",
            "Epoch 140/200\n",
            "1390/1390 [==============================] - 3s 2ms/step - loss: 0.2557 - accuracy: 0.9043\n",
            "Epoch 141/200\n",
            "1390/1390 [==============================] - 3s 2ms/step - loss: 0.2557 - accuracy: 0.9022\n",
            "Epoch 142/200\n",
            "1390/1390 [==============================] - 3s 2ms/step - loss: 0.2479 - accuracy: 0.9057\n",
            "Epoch 143/200\n",
            "1390/1390 [==============================] - 3s 2ms/step - loss: 0.2520 - accuracy: 0.9010\n",
            "Epoch 144/200\n",
            "1390/1390 [==============================] - 3s 2ms/step - loss: 0.2529 - accuracy: 0.9029\n",
            "Epoch 145/200\n",
            "1390/1390 [==============================] - 3s 2ms/step - loss: 0.2537 - accuracy: 0.9023\n",
            "Epoch 146/200\n",
            "1390/1390 [==============================] - 3s 2ms/step - loss: 0.2514 - accuracy: 0.9030\n",
            "Epoch 147/200\n",
            "1390/1390 [==============================] - 3s 2ms/step - loss: 0.2531 - accuracy: 0.9055\n",
            "Epoch 148/200\n",
            "1390/1390 [==============================] - 4s 3ms/step - loss: 0.2517 - accuracy: 0.9024\n",
            "Epoch 149/200\n",
            "1390/1390 [==============================] - 3s 2ms/step - loss: 0.2511 - accuracy: 0.9027\n",
            "Epoch 150/200\n",
            "1390/1390 [==============================] - 3s 2ms/step - loss: 0.2497 - accuracy: 0.9043\n",
            "Epoch 151/200\n",
            "1390/1390 [==============================] - 3s 2ms/step - loss: 0.2456 - accuracy: 0.9058\n",
            "Epoch 152/200\n",
            "1390/1390 [==============================] - 3s 2ms/step - loss: 0.2457 - accuracy: 0.9091\n",
            "Epoch 153/200\n",
            "1390/1390 [==============================] - 3s 3ms/step - loss: 0.2505 - accuracy: 0.9024\n",
            "Epoch 154/200\n",
            "1390/1390 [==============================] - 3s 2ms/step - loss: 0.2484 - accuracy: 0.9040\n",
            "Epoch 155/200\n",
            "1390/1390 [==============================] - 3s 2ms/step - loss: 0.2471 - accuracy: 0.9071\n",
            "Epoch 156/200\n",
            "1390/1390 [==============================] - 3s 2ms/step - loss: 0.2515 - accuracy: 0.9043\n",
            "Epoch 157/200\n",
            "1390/1390 [==============================] - 3s 2ms/step - loss: 0.2518 - accuracy: 0.9053\n",
            "Epoch 158/200\n",
            "1390/1390 [==============================] - 4s 3ms/step - loss: 0.2468 - accuracy: 0.9038\n",
            "Epoch 159/200\n",
            "1390/1390 [==============================] - 3s 2ms/step - loss: 0.2522 - accuracy: 0.9033\n",
            "Epoch 160/200\n",
            "1390/1390 [==============================] - 3s 2ms/step - loss: 0.2504 - accuracy: 0.9058\n",
            "Epoch 161/200\n",
            "1390/1390 [==============================] - 3s 2ms/step - loss: 0.2495 - accuracy: 0.9045\n",
            "Epoch 162/200\n",
            "1390/1390 [==============================] - 3s 2ms/step - loss: 0.2463 - accuracy: 0.9068\n",
            "Epoch 163/200\n",
            "1390/1390 [==============================] - 3s 2ms/step - loss: 0.2542 - accuracy: 0.9050\n",
            "Epoch 164/200\n",
            "1390/1390 [==============================] - 3s 2ms/step - loss: 0.2500 - accuracy: 0.9059\n",
            "Epoch 165/200\n",
            "1390/1390 [==============================] - 3s 2ms/step - loss: 0.2472 - accuracy: 0.9063\n",
            "Epoch 166/200\n",
            "1390/1390 [==============================] - 3s 2ms/step - loss: 0.2457 - accuracy: 0.9054\n",
            "Epoch 167/200\n",
            "1390/1390 [==============================] - 3s 2ms/step - loss: 0.2514 - accuracy: 0.9052\n",
            "Epoch 168/200\n",
            "1390/1390 [==============================] - 4s 3ms/step - loss: 0.2528 - accuracy: 0.9045\n",
            "Epoch 169/200\n",
            "1390/1390 [==============================] - 3s 2ms/step - loss: 0.2508 - accuracy: 0.9064\n",
            "Epoch 170/200\n",
            "1390/1390 [==============================] - 3s 2ms/step - loss: 0.2460 - accuracy: 0.9081\n",
            "Epoch 171/200\n",
            "1390/1390 [==============================] - 3s 2ms/step - loss: 0.2445 - accuracy: 0.9073\n",
            "Epoch 172/200\n",
            "1390/1390 [==============================] - 3s 2ms/step - loss: 0.2484 - accuracy: 0.9066\n",
            "Epoch 173/200\n",
            "1390/1390 [==============================] - 3s 2ms/step - loss: 0.2492 - accuracy: 0.9070\n",
            "Epoch 174/200\n",
            "1390/1390 [==============================] - 3s 2ms/step - loss: 0.2491 - accuracy: 0.9043\n",
            "Epoch 175/200\n",
            "1390/1390 [==============================] - 3s 2ms/step - loss: 0.2407 - accuracy: 0.9073\n",
            "Epoch 176/200\n",
            "1390/1390 [==============================] - 3s 2ms/step - loss: 0.2459 - accuracy: 0.9066\n",
            "Epoch 177/200\n",
            "1390/1390 [==============================] - 3s 2ms/step - loss: 0.2442 - accuracy: 0.9094\n",
            "Epoch 178/200\n",
            "1390/1390 [==============================] - 4s 3ms/step - loss: 0.2486 - accuracy: 0.9040\n",
            "Epoch 179/200\n",
            "1390/1390 [==============================] - 3s 2ms/step - loss: 0.2505 - accuracy: 0.9051\n",
            "Epoch 180/200\n",
            "1390/1390 [==============================] - 3s 2ms/step - loss: 0.2518 - accuracy: 0.9037\n",
            "Epoch 181/200\n",
            "1390/1390 [==============================] - 3s 2ms/step - loss: 0.2497 - accuracy: 0.9063\n",
            "Epoch 182/200\n",
            "1390/1390 [==============================] - 3s 2ms/step - loss: 0.2458 - accuracy: 0.9082\n",
            "Epoch 183/200\n",
            "1390/1390 [==============================] - 3s 2ms/step - loss: 0.2453 - accuracy: 0.9092\n",
            "Epoch 184/200\n",
            "1390/1390 [==============================] - 3s 2ms/step - loss: 0.2505 - accuracy: 0.9048\n",
            "Epoch 185/200\n",
            "1390/1390 [==============================] - 3s 2ms/step - loss: 0.2457 - accuracy: 0.9069\n",
            "Epoch 186/200\n",
            "1390/1390 [==============================] - 3s 2ms/step - loss: 0.2462 - accuracy: 0.9041\n",
            "Epoch 187/200\n",
            "1390/1390 [==============================] - 3s 2ms/step - loss: 0.2418 - accuracy: 0.9086\n",
            "Epoch 188/200\n",
            "1390/1390 [==============================] - 3s 2ms/step - loss: 0.2479 - accuracy: 0.9085\n",
            "Epoch 189/200\n",
            "1390/1390 [==============================] - 3s 2ms/step - loss: 0.2439 - accuracy: 0.9110\n",
            "Epoch 190/200\n",
            "1390/1390 [==============================] - 3s 2ms/step - loss: 0.2403 - accuracy: 0.9071\n",
            "Epoch 191/200\n",
            "1390/1390 [==============================] - 3s 2ms/step - loss: 0.2444 - accuracy: 0.9079\n",
            "Epoch 192/200\n",
            "1390/1390 [==============================] - 3s 2ms/step - loss: 0.2489 - accuracy: 0.9059\n",
            "Epoch 193/200\n",
            "1390/1390 [==============================] - 3s 2ms/step - loss: 0.2427 - accuracy: 0.9077\n",
            "Epoch 194/200\n",
            "1390/1390 [==============================] - 3s 2ms/step - loss: 0.2412 - accuracy: 0.9058\n",
            "Epoch 195/200\n",
            "1390/1390 [==============================] - 3s 2ms/step - loss: 0.2444 - accuracy: 0.9058\n",
            "Epoch 196/200\n",
            "1390/1390 [==============================] - 3s 2ms/step - loss: 0.2449 - accuracy: 0.9089\n",
            "Epoch 197/200\n",
            "1390/1390 [==============================] - 3s 2ms/step - loss: 0.2365 - accuracy: 0.9096\n",
            "Epoch 198/200\n",
            "1390/1390 [==============================] - 3s 3ms/step - loss: 0.2433 - accuracy: 0.9091\n",
            "Epoch 199/200\n",
            "1390/1390 [==============================] - 3s 2ms/step - loss: 0.2442 - accuracy: 0.9089\n",
            "Epoch 200/200\n",
            "1390/1390 [==============================] - 3s 2ms/step - loss: 0.2411 - accuracy: 0.9094\n"
          ]
        }
      ]
    },
    {
      "cell_type": "code",
      "source": [
        "plt.plot(h.history[\"accuracy\"])\n",
        "plt.title(\"Accuracy\")"
      ],
      "metadata": {
        "colab": {
          "base_uri": "https://localhost:8080/",
          "height": 469
        },
        "id": "BJFD2bof3YeZ",
        "outputId": "916d48c0-afd2-4ad2-f653-0eea921a12fa"
      },
      "execution_count": 114,
      "outputs": [
        {
          "output_type": "execute_result",
          "data": {
            "text/plain": [
              "Text(0.5, 1.0, 'Accuracy')"
            ]
          },
          "metadata": {},
          "execution_count": 114
        },
        {
          "output_type": "display_data",
          "data": {
            "text/plain": [
              "<Figure size 640x480 with 1 Axes>"
            ],
            "image/png": "[encoded data removed]"
          },
          "metadata": {}
        }
      ]
    },
    {
      "cell_type": "code",
      "source": [
        "plt.plot(h.history[\"loss\"])\n",
        "plt.title(\"Loss\")"
      ],
      "metadata": {
        "colab": {
          "base_uri": "https://localhost:8080/",
          "height": 469
        },
        "id": "mC_Rk8cK3b7o",
        "outputId": "02584f7d-83cb-4420-f0bf-d6ba520f74f5"
      },
      "execution_count": 115,
      "outputs": [
        {
          "output_type": "execute_result",
          "data": {
            "text/plain": [
              "Text(0.5, 1.0, 'Loss')"
            ]
          },
          "metadata": {},
          "execution_count": 115
        },
        {
          "output_type": "display_data",
          "data": {
            "text/plain": [
              "<Figure size 640x480 with 1 Axes>"
            ],
            "image/png": "[encoded data removed]"
          },
          "metadata": {}
        }
      ]
    },
    {
      "cell_type": "code",
      "source": [
        "pred = model.predict(X_test)\n",
        "pred = np.where(pred >= 0.5, 1, 0 )\n",
        "cm = confusion_matrix(Y_test, pred)\n",
        "print(\"Neural Network Accuracy is: \", round((cm[0,0] + cm[1,1]) / sum(sum(cm)), 3))"
      ],
      "metadata": {
        "colab": {
          "base_uri": "https://localhost:8080/"
        },
        "id": "DX_SmdjX3dZj",
        "outputId": "8559c087-8e8c-4429-d1b3-75d9a5765e7c"
      },
      "execution_count": 116,
      "outputs": [
        {
          "output_type": "stream",
          "name": "stdout",
          "text": [
            "75/75 [==============================] - 0s 1ms/step\n",
            "Neural Network Accuracy is:  0.841\n"
          ]
        }
      ]
    },
    {
      "cell_type": "code",
      "source": [
        "model.evaluate(X_test, Y_test)"
      ],
      "metadata": {
        "colab": {
          "base_uri": "https://localhost:8080/"
        },
        "id": "k283t6jY3e_f",
        "outputId": "7502cf80-b5cd-4212-ed09-8da3d0d832ce"
      },
      "execution_count": 117,
      "outputs": [
        {
          "output_type": "stream",
          "name": "stdout",
          "text": [
            "75/75 [==============================] - 0s 2ms/step - loss: 0.3391 - accuracy: 0.8409\n"
          ]
        },
        {
          "output_type": "execute_result",
          "data": {
            "text/plain": [
              "[0.3391225337982178, 0.8409282565116882]"
            ]
          },
          "metadata": {},
          "execution_count": 117
        }
      ]
    },
    {
      "cell_type": "markdown",
      "source": [
        "Q: explain the pros and cons about all the models you use\n",
        "\n",
        "A:\n",
        "\n",
        "Logistic regression is a straightforward machine learning algorithm with low computational requirements that is easy to scale. Although not as interpretable as linear regression, it can help identify which input variable has the greatest impact on predicted values. However, logistic regression can overfit data, especially in high-dimensional settings, resulting in poor performance on testing data.\n",
        "\n",
        "Decision tree models are intuitive and easy to interpret since they use if-else conditions. They are not sensitive to outliers because nodes are determined based on sample proportions in each split region. However, decision trees can be highly sensitive to even minor changes in the dataset, which can significantly affect tree structure. Additionally, decision trees tend to overfit, especially when they are allowed to grow deep.\n",
        "\n",
        "Neural networks do not impose any restrictions on input variables and can better model heteroskedasticity, making them useful in financial time series forecasting. However, they are also black box models, making it challenging to explain predictions, and require significantly more computational power and development time compared to other models."
      ],
      "metadata": {
        "id": "8jr3NTdH4uw5"
      }
    },
    {
      "cell_type": "markdown",
      "source": [
        "Q: How to overcome the weakness of your all your models (future study)\n",
        "\n",
        "A:\n",
        "\n",
        "The Logistic Regression model can easily overfit the data, especially in high-dimensional settings. Regularization methods are used to prevent this issue by fitting the training data well without using regression weights that are too large. L1 and L2 regularizations are the most common approaches used to keep the total absolute and squared values of the regression weights low, respectively.\n",
        "\n",
        "The Decision Tree model is prone to overfitting and needs to be handled during training. Pre-pruning and post-pruning are two techniques used to prevent the model from overfitting. Pre-pruning involves tuning hyperparameters such as max_depth, min_samples_leaf, and min_samples_split to stop the growth of the tree. Post-pruning involves removing tree branches, and the ccp_alpha hyperparameter can be tuned to get the best fit model.\n",
        "\n",
        "The key weakness of neural network is that it cannot explain how it arrived at its predictions, making it difficult to trust its output. Modal interpretability techniques can be used to overcome this weakness, such as Partial dependence plots and Local interpretable model-agnostic explanations (LIME). Partial dependence plots help to understand how target features affect the model, while LIME uses local surrogate models to explain individual predictions of black box machine learning models."
      ],
      "metadata": {
        "id": "CQH_K7Cm4-lP"
      }
    },
    {
      "cell_type": "markdown",
      "source": [
        "Q: The importance of your model to the bank\n",
        "\n",
        "A: Commercial banks offer various financial services such as savings and checking accounts, loans, credit cards, and other financial products to their clients. However, the increase in loans and credit applications has led to an increase in losses from loan defaults and bad credits. As competition in the industry grows, it is essential for banks to leverage data analytics and machine learning to build predictive models that minimize the chances of loan defaults and bad credit.\n",
        "\n",
        "This project uses a bank database to predict loan defaults and aims to help banks make better decisions on issuing loans while maximizing profit. The project employs five models, including logistic regression, decision tree, random forest, XGBoost, and neural network, to reduce human involvement and improve loan acceptance and default rates. The model's thresholds can be adjusted to change the strictness of the prediction, allowing banks to determine the optimal level at which profit is maximized.\n",
        "\n",
        "Overall, using data analytics and machine learning can lead to more accurate and reliable decision-making, reduce costs and time, and increase efficiency in banks. With predictive models, banks can better distinguish between creditworthy and non-creditworthy customers, leading to better loan acceptance rates and fewer loan defaults. Ultimately, this results in more resources that can be better allocated and utilized in the bank."
      ],
      "metadata": {
        "id": "QNT8zBWJ5FbI"
      }
    },
    {
      "cell_type": "code",
      "source": [
        "#PART 2"
      ],
      "metadata": {
        "id": "3Mp3fW0i3iLl"
      },
      "execution_count": 118,
      "outputs": []
    },
    {
      "cell_type": "markdown",
      "source": [
        "Apply SVM one class for anomaly detection (unsupervised learning) and compare with the results above.\n",
        "\n",
        "Explain the difference between the 2 approaches and why the results are different."
      ],
      "metadata": {
        "id": "SI2Zy8b05O9z"
      }
    },
    {
      "cell_type": "code",
      "source": [
        "df.head()"
      ],
      "metadata": {
        "colab": {
          "base_uri": "https://localhost:8080/",
          "height": 250
        },
        "id": "OdyDGObF5K-Z",
        "outputId": "7eca30eb-50bd-4a3d-f056-b173bbdb359b"
      },
      "execution_count": 119,
      "outputs": [
        {
          "output_type": "execute_result",
          "data": {
            "text/plain": [
              "   class     Attr3     Attr8    Attr11    Attr16    Attr17    Attr22  \\\n",
              "0      0 -0.040269  0.641242 -0.214423 -0.242796  0.579994 -0.403174   \n",
              "1      0  0.304381  0.074710 -0.835505 -0.603332  0.040666 -0.873423   \n",
              "2      0 -0.488404 -0.456287  0.156944 -0.367159 -0.464823  0.152437   \n",
              "3      0 -0.181684 -0.462971 -0.314756 -0.454498 -0.413685 -0.089462   \n",
              "4      0  0.678337  0.097183  0.918860  0.744187  0.062059  0.866831   \n",
              "\n",
              "     Attr26    Attr35    Attr50    Attr51  \n",
              "0 -0.206675 -0.435600 -0.192331 -1.027090  \n",
              "1 -0.591456 -0.986256  0.186782 -0.079059  \n",
              "2 -0.339401  0.766162 -0.468628  0.393587  \n",
              "3 -0.442992 -0.100314 -0.515188 -0.267896  \n",
              "4  0.675202  1.004640  0.342874 -0.210252  "
            ],
            "text/html": [
              "\n",
              "  <div id=\"df-493c3d52-ca5b-400c-b5e6-d0e238868231\">\n",
              "    <div class=\"colab-df-container\">\n",
              "      <div>\n",
              "<style scoped>\n",
              "    .dataframe tbody tr th:only-of-type {\n",
              "        vertical-align: middle;\n",
              "    }\n",
              "\n",
              "    .dataframe tbody tr th {\n",
              "        vertical-align: top;\n",
              "    }\n",
              "\n",
              "    .dataframe thead th {\n",
              "        text-align: right;\n",
              "    }\n",
              "</style>\n",
              "<table border=\"1\" class=\"dataframe\">\n",
              "  <thead>\n",
              "    <tr style=\"text-align: right;\">\n",
              "      <th></th>\n",
              "      <th>class</th>\n",
              "      <th>Attr3</th>\n",
              "      <th>Attr8</th>\n",
              "      <th>Attr11</th>\n",
              "      <th>Attr16</th>\n",
              "      <th>Attr17</th>\n",
              "      <th>Attr22</th>\n",
              "      <th>Attr26</th>\n",
              "      <th>Attr35</th>\n",
              "      <th>Attr50</th>\n",
              "      <th>Attr51</th>\n",
              "    </tr>\n",
              "  </thead>\n",
              "  <tbody>\n",
              "    <tr>\n",
              "      <th>0</th>\n",
              "      <td>0</td>\n",
              "      <td>-0.040269</td>\n",
              "      <td>0.641242</td>\n",
              "      <td>-0.214423</td>\n",
              "      <td>-0.242796</td>\n",
              "      <td>0.579994</td>\n",
              "      <td>-0.403174</td>\n",
              "      <td>-0.206675</td>\n",
              "      <td>-0.435600</td>\n",
              "      <td>-0.192331</td>\n",
              "      <td>-1.027090</td>\n",
              "    </tr>\n",
              "    <tr>\n",
              "      <th>1</th>\n",
              "      <td>0</td>\n",
              "      <td>0.304381</td>\n",
              "      <td>0.074710</td>\n",
              "      <td>-0.835505</td>\n",
              "      <td>-0.603332</td>\n",
              "      <td>0.040666</td>\n",
              "      <td>-0.873423</td>\n",
              "      <td>-0.591456</td>\n",
              "      <td>-0.986256</td>\n",
              "      <td>0.186782</td>\n",
              "      <td>-0.079059</td>\n",
              "    </tr>\n",
              "    <tr>\n",
              "      <th>2</th>\n",
              "      <td>0</td>\n",
              "      <td>-0.488404</td>\n",
              "      <td>-0.456287</td>\n",
              "      <td>0.156944</td>\n",
              "      <td>-0.367159</td>\n",
              "      <td>-0.464823</td>\n",
              "      <td>0.152437</td>\n",
              "      <td>-0.339401</td>\n",
              "      <td>0.766162</td>\n",
              "      <td>-0.468628</td>\n",
              "      <td>0.393587</td>\n",
              "    </tr>\n",
              "    <tr>\n",
              "      <th>3</th>\n",
              "      <td>0</td>\n",
              "      <td>-0.181684</td>\n",
              "      <td>-0.462971</td>\n",
              "      <td>-0.314756</td>\n",
              "      <td>-0.454498</td>\n",
              "      <td>-0.413685</td>\n",
              "      <td>-0.089462</td>\n",
              "      <td>-0.442992</td>\n",
              "      <td>-0.100314</td>\n",
              "      <td>-0.515188</td>\n",
              "      <td>-0.267896</td>\n",
              "    </tr>\n",
              "    <tr>\n",
              "      <th>4</th>\n",
              "      <td>0</td>\n",
              "      <td>0.678337</td>\n",
              "      <td>0.097183</td>\n",
              "      <td>0.918860</td>\n",
              "      <td>0.744187</td>\n",
              "      <td>0.062059</td>\n",
              "      <td>0.866831</td>\n",
              "      <td>0.675202</td>\n",
              "      <td>1.004640</td>\n",
              "      <td>0.342874</td>\n",
              "      <td>-0.210252</td>\n",
              "    </tr>\n",
              "  </tbody>\n",
              "</table>\n",
              "</div>\n",
              "      <button class=\"colab-df-convert\" onclick=\"convertToInteractive('df-493c3d52-ca5b-400c-b5e6-d0e238868231')\"\n",
              "              title=\"Convert this dataframe to an interactive table.\"\n",
              "              style=\"display:none;\">\n",
              "        \n",
              "  <svg xmlns=\"http://www.w3.org/2000/svg\" height=\"24px\"viewBox=\"0 0 24 24\"\n",
              "       width=\"24px\">\n",
              "    <path d=\"M0 0h24v24H0V0z\" fill=\"none\"/>\n",
              "    <path d=\"M18.56 5.44l.94 2.06.94-2.06 2.06-.94-2.06-.94-.94-2.06-.94 2.06-2.06.94zm-11 1L8.5 8.5l.94-2.06 2.06-.94-2.06-.94L8.5 2.5l-.94 2.06-2.06.94zm10 10l.94 2.06.94-2.06 2.06-.94-2.06-.94-.94-2.06-.94 2.06-2.06.94z\"/><path d=\"M17.41 7.96l-1.37-1.37c-.4-.4-.92-.59-1.43-.59-.52 0-1.04.2-1.43.59L10.3 9.45l-7.72 7.72c-.78.78-.78 2.05 0 2.83L4 21.41c.39.39.9.59 1.41.59.51 0 1.02-.2 1.41-.59l7.78-7.78 2.81-2.81c.8-.78.8-2.07 0-2.86zM5.41 20L4 18.59l7.72-7.72 1.47 1.35L5.41 20z\"/>\n",
              "  </svg>\n",
              "      </button>\n",
              "      \n",
              "  <style>\n",
              "    .colab-df-container {\n",
              "      display:flex;\n",
              "      flex-wrap:wrap;\n",
              "      gap: 12px;\n",
              "    }\n",
              "\n",
              "    .colab-df-convert {\n",
              "      background-color: #E8F0FE;\n",
              "      border: none;\n",
              "      border-radius: 50%;\n",
              "      cursor: pointer;\n",
              "      display: none;\n",
              "      fill: #1967D2;\n",
              "      height: 32px;\n",
              "      padding: 0 0 0 0;\n",
              "      width: 32px;\n",
              "    }\n",
              "\n",
              "    .colab-df-convert:hover {\n",
              "      background-color: #E2EBFA;\n",
              "      box-shadow: 0px 1px 2px rgba(60, 64, 67, 0.3), 0px 1px 3px 1px rgba(60, 64, 67, 0.15);\n",
              "      fill: #174EA6;\n",
              "    }\n",
              "\n",
              "    [theme=dark] .colab-df-convert {\n",
              "      background-color: #3B4455;\n",
              "      fill: #D2E3FC;\n",
              "    }\n",
              "\n",
              "    [theme=dark] .colab-df-convert:hover {\n",
              "      background-color: #434B5C;\n",
              "      box-shadow: 0px 1px 3px 1px rgba(0, 0, 0, 0.15);\n",
              "      filter: drop-shadow(0px 1px 2px rgba(0, 0, 0, 0.3));\n",
              "      fill: #FFFFFF;\n",
              "    }\n",
              "  </style>\n",
              "\n",
              "      <script>\n",
              "        const buttonEl =\n",
              "          document.querySelector('#df-493c3d52-ca5b-400c-b5e6-d0e238868231 button.colab-df-convert');\n",
              "        buttonEl.style.display =\n",
              "          google.colab.kernel.accessAllowed ? 'block' : 'none';\n",
              "\n",
              "        async function convertToInteractive(key) {\n",
              "          const element = document.querySelector('#df-493c3d52-ca5b-400c-b5e6-d0e238868231');\n",
              "          const dataTable =\n",
              "            await google.colab.kernel.invokeFunction('convertToInteractive',\n",
              "                                                     [key], {});\n",
              "          if (!dataTable) return;\n",
              "\n",
              "          const docLinkHtml = 'Like what you see? Visit the ' +\n",
              "            '<a target=\"_blank\" href=https://colab.research.google.com/notebooks/data_table.ipynb>data table notebook</a>'\n",
              "            + ' to learn more about interactive tables.';\n",
              "          element.innerHTML = '';\n",
              "          dataTable['output_type'] = 'display_data';\n",
              "          await google.colab.output.renderOutput(dataTable, element);\n",
              "          const docLink = document.createElement('div');\n",
              "          docLink.innerHTML = docLinkHtml;\n",
              "          element.appendChild(docLink);\n",
              "        }\n",
              "      </script>\n",
              "    </div>\n",
              "  </div>\n",
              "  "
            ]
          },
          "metadata": {},
          "execution_count": 119
        }
      ]
    },
    {
      "cell_type": "code",
      "source": [
        "from sklearn import svm\n",
        "from sklearn.metrics import confusion_matrix\n",
        "\n",
        "model = svm.SVC(kernel='rbf')\n",
        "model.fit(X_train, Y_train)\n",
        "pred = model.predict(X_train)\n",
        "cm = confusion_matrix(Y_train,pred)\n",
        "print(\"================================\")\n",
        "print(\"Training confusion matrix: \")\n",
        "print(cm)\n",
        "accuracy = (cm[0,0] + cm[1,1]) / sum(sum(cm))\n",
        "print(\"SVM: TrainSet: Accurarcy %.2f%%\" % (accuracy*100))\n",
        "\n",
        "pred = model.predict(X_test)\n",
        "print(\"================================\")\n",
        "cm = confusion_matrix(Y_test,pred)\n",
        "print(cm)\n",
        "accuracy = (cm[0,0] + cm[1,1]) / sum(sum(cm))\n",
        "print(\"Testset: Accurarcy %.2f%%\" % (accuracy*100))\n",
        "print(\"================================\")\n"
      ],
      "metadata": {
        "colab": {
          "base_uri": "https://localhost:8080/"
        },
        "id": "iHP0QXTv6QPq",
        "outputId": "29d49cf7-a481-4333-988d-d8d81d39dfab"
      },
      "execution_count": 139,
      "outputs": [
        {
          "output_type": "stream",
          "name": "stdout",
          "text": [
            "================================\n",
            "Training confusion matrix: \n",
            "[[6866    0]\n",
            " [ 134    0]]\n",
            "SVM: TrainSet: Accurarcy 98.09%\n",
            "================================\n",
            "[[2931    0]\n",
            " [  69    0]]\n",
            "Testset: Accurarcy 97.70%\n",
            "================================\n"
          ]
        }
      ]
    },
    {
      "cell_type": "markdown",
      "source": [
        "Explain the difference between the 2 approaches and why the results are different."
      ],
      "metadata": {
        "id": "iu4lHvxI7S8n"
      }
    },
    {
      "cell_type": "markdown",
      "source": [
        "Linear regression, decision tree, and neural network are all models that are used for regression or classification tasks. Linear regression models the relationship between the input variables and output variables by fitting a line or hyperplane that minimizes the sum of squared errors between the predicted and actual values. Decision tree models the relationship between the input variables and output variables by recursively splitting the data into subsets based on the values of the input variables. Neural network models the relationship between the input variables and output variables by using layers of interconnected nodes that perform computations.\n",
        "\n",
        "In contrast, SVM models the relationship between the input variables and output variables by finding the best hyperplane that separates the data into different classes. The hyperplane is chosen in such a way that the distance between the hyperplane and the nearest data points from each class (called support vectors) is maximized. SVM can also handle non-linear classification problems by using kernel functions that transform the input variables into a higher-dimensional space where they can be linearly separated.\n",
        "\n",
        "The results of these models can be different depending on the characteristics of the dataset and the specific problem being solved. SVM is particularly effective when the data is not linearly separable and requires a non-linear decision boundary. Linear regression, decision tree, and neural network are generally effective for linearly separable data, but may not perform as well for non-linear data. Additionally, the interpretability of these models differs - SVM is generally less interpretable than linear regression and decision tree, but more interpretable than neural network."
      ],
      "metadata": {
        "id": "4iA-PJ8M7Tye"
      }
    }
  ]
}